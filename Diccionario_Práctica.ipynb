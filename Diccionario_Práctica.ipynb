{
  "nbformat": 4,
  "nbformat_minor": 0,
  "metadata": {
    "colab": {
      "provenance": [],
      "include_colab_link": true
    },
    "kernelspec": {
      "name": "python3",
      "display_name": "Python 3"
    },
    "language_info": {
      "name": "python"
    }
  },
  "cells": [
    {
      "cell_type": "markdown",
      "metadata": {
        "id": "view-in-github",
        "colab_type": "text"
      },
      "source": [
        "<a href=\"https://colab.research.google.com/github/liz096/liz096/blob/main/Diccionario_Pr%C3%A1ctica.ipynb\" target=\"_parent\"><img src=\"https://colab.research.google.com/assets/colab-badge.svg\" alt=\"Open In Colab\"/></a>"
      ]
    },
    {
      "cell_type": "code",
      "execution_count": 2,
      "metadata": {
        "id": "8VOD-zpMJovw"
      },
      "outputs": [],
      "source": [
        "# Listas de alumnos\n",
        "estudiantes_5d = [\n",
        "   (\"Alurralde, Solange Stefania\",\"D\",\"02/04/2007\"),\n",
        "   (\"Alvarado, Ludmila Del Milagro\",\"D\",\"06/09/2006\"),\n",
        "   (\"Angel, Camila Juliana\",\"D\",\"07/03/2007\"),\n",
        "   (\"Arenas, Lucas Gabriel\",\"D\",\"26/06/2007\"),\n",
        "   (\"Caseres, Maria Antonia\",\"D\",\"01/07/2006\"),\n",
        "   (\"Castillo, Paulina Milagros\",\"D\",\"01/06/2007\"),\n",
        "   (\"Correa Segovia, Hugo Mariano\",\"D\",\"04/12/2006\"),\n",
        "   (\"D Elia, Alvaro Tadeo\",\"D\",\"27/08/2006\"),\n",
        "   (\"Flores, Victoria Agustina\",\"D\",\"12/12/2006\"),\n",
        "   (\"Geronimo Soriano, Lizzie Amaya\",\"D\",\"20/01/2007\"),\n",
        "   (\"GUZMAN, ANGÉLICA MORENA\",\"D\",\"11/04/2007\"),\n",
        "   (\"Guzman, Jazmin Esmeralda Belen\",\"D\",\"31/07/2006\"),\n",
        "   (\"Jaime, Anita Maria Belen\",\"D\",\"19/04/2007\"),\n",
        "   (\"Lacour Polo, Nazarena\",\"D\",\"19/12/2005\"),\n",
        "   (\"Lascano Guanca, Marcelo Fabricio\",\"D\",\"17/02/2006\"),\n",
        "   (\"Lezcano, Celia Morena\",\"D\",\"01/07/2005\"),\n",
        "   (\"Martinez, Tomas Andres\",\"D\",\"22/03/2007\"),\n",
        "   (\"PORTELLA VALDIVIA, PEDRO FRANCISCO\",\"D\",\"24/01/2007\"),\n",
        "   (\"Retamal Cisneros, Zacarias Josue\",\"D\",\"24/02/2007\"),\n",
        "   (\"Rosales, Francisco Gabriel\",\"D\",\"14/11/2006\"),\n",
        "   (\"Salem Barba, Mahia\",\"D\",\"14/10/2005\"),\n",
        "   (\"Soto Camara, Agustin Ignacio\",\"D\",\"07/11/2005\"),\n",
        "   (\"Villalba, Irina\",\"D\",\"09/09/2006\"),\n",
        "   (\"Voltolini, Emanuel Tobias\",\"D\",\"17/09/2006\"),\n",
        "   (\"Zalazar, Santino Stefano\",\"D\",\"30/09/2006\")\n",
        "]\n",
        "\n",
        "estudiantes_5c=[\n",
        "    (\"ABUD LASPIUR, LOURDES MARIEL\",\"C\",\"05/12/2006\"),\n",
        "    (\"Amador, Luana Micaela\",\"C\",\"09/12/2006\"),\n",
        "    (\"Anaquin, Leonardo Ezequiel\",\"C\",\"06/09/2005\"),\n",
        "    (\"Araoz Sanchez, Lautaro Nahuel\",\"C\",\"28/12/2005\"),\n",
        "    (\"Argañaraz, Agostina Abril\",\"C\",\"11/10/2006\"),\n",
        "    (\"Barrera, Matias Ezequiel\",\"C\",\"27/02/2007\"),\n",
        "    (\"Barrozo Vedia, Joaquin Nicolas\",\"C\",\"15/04/2006\"),\n",
        "    (\"Bettinelli, Valentino\",\"C\",\"12/07/2006\"),\n",
        "    (\"Bracamonte Martinez, Salvador\",\"C\",\"02/11/2005\"),\n",
        "    (\"Colque Rivero, Ariana Zoe Del Valle\",\"C\",\"27/12/2006\"),\n",
        "    (\"Diaz, Dulce Maitena\",\"C\",\"11/12/2006\"),\n",
        "    (\"FIGUEROA, SANTINO JOSUE\",\"C\",\"12/05/2007\"),\n",
        "    (\"Flores Cardozo, Agustina Tiara\",\"C\",\"18/03/2006\"),\n",
        "    (\"Gallo, Octavio Ismael\",\"C\",\"04/08/2006\"),\n",
        "    (\"Galvan, Lourdes Yamila\",\"C\",\"19/08/2005\"),\n",
        "    (\"Giangreco, Vitto Tomasso\",\"C\",\"21/03/2007\"),\n",
        "    (\"Grancara, Martina Luna\",\"C\",\"15/12/2006\"),\n",
        "    (\"Guanca, Sara Elizabeth\",\"C\",\"17/01/2007\"),\n",
        "    (\"Lopez, Victoria Constanza\",\"C\",\"12/11/2007\"),\n",
        "    (\"Mamani Garrido, Rosario Agostina\",\"C\",\"24/10/2006\"),\n",
        "    (\"Marinaro, Martin Ezequiel\",\"C\",\"03/11/2006\"),\n",
        "    (\"Merluzzi Dagum, Ignacio\",\"C\",\"22/12/2005\"),\n",
        "    (\"Messina, Martina\",\"C\",\"13/07/2005\"),\n",
        "    (\"RASUK, KARIM\", \"C\",\"13/07/2007\"),\n",
        "    (\"Rios, Lucia Magali\",\"C\",\"22/09/2006\"),\n",
        "    (\"Sanchez Flores, Matías Agustín\",\"C\",\"15/02/2007\"),\n",
        "    (\"Scarano, Renato Marcelo\",\"C\",\"06/12/2006\"),\n",
        "    (\"Sierra, Lucas Mauricio\",\"C\",\"03/04/2005\"),\n",
        "    (\"Tapia, Martin Gabriel\",\"C\",\"30/05/2006\"),\n",
        "    (\"Vilte, Mia Antonella Alondra\",\"C\",\"10/09/2005\"),\n",
        "    (\"Virgillito, Katya Milena\",\"C\",\"19/06/2007\")\n",
        "]"
      ]
    },
    {
      "cell_type": "markdown",
      "source": [
        "## Dada la lista estudiantes:\n",
        "> - Hacer una celda para resolver cada punto.\n",
        "- El TP resuelto será revisado en tu repositorio, no es necesario que lo envíes, pero sí que lo pushees correctamente.\n",
        "- En la nota inicial se contempla:\n",
        "  - La incorporación de este documento a tu propio respositorio.\n",
        "  - El pusheo de los cambios realizados.\n",
        "  - La resolución de los ejercicios propuestos.\n"
      ],
      "metadata": {
        "id": "rd6Ug6v3J4uN"
      }
    },
    {
      "cell_type": "markdown",
      "source": [
        "1. Reemplaza todos los valores del nombre por los que obtengas del método title(). De esta manera las listas quedaran con los datos más homogéneos."
      ],
      "metadata": {
        "id": "wRLng-uURyJ3"
      }
    },
    {
      "cell_type": "code",
      "source": [
        "estudiantes = []\n",
        "estudiantes.extend(estudiantes_5d)\n",
        "estudiantes.extend(estudiantes_5c)\n",
        "for i in range(len(estudiantes)):\n",
        "  nombre, division, fecha_nacimiento = estudiantes[i]\n",
        "  nombre = nombre.title()\n",
        "  estudiantes[i]  = nombre, division, fecha_nacimiento\n",
        "for estudiante in estudiantes:\n",
        "  print(estudiante)"
      ],
      "metadata": {
        "id": "5lFqJoTaSIWi",
        "outputId": "e7d3ba2c-3cb4-4326-e639-a50ddebaa2be",
        "colab": {
          "base_uri": "https://localhost:8080/"
        }
      },
      "execution_count": 3,
      "outputs": [
        {
          "output_type": "stream",
          "name": "stdout",
          "text": [
            "('Alurralde, Solange Stefania', 'D', '02/04/2007')\n",
            "('Alvarado, Ludmila Del Milagro', 'D', '06/09/2006')\n",
            "('Angel, Camila Juliana', 'D', '07/03/2007')\n",
            "('Arenas, Lucas Gabriel', 'D', '26/06/2007')\n",
            "('Caseres, Maria Antonia', 'D', '01/07/2006')\n",
            "('Castillo, Paulina Milagros', 'D', '01/06/2007')\n",
            "('Correa Segovia, Hugo Mariano', 'D', '04/12/2006')\n",
            "('D Elia, Alvaro Tadeo', 'D', '27/08/2006')\n",
            "('Flores, Victoria Agustina', 'D', '12/12/2006')\n",
            "('Geronimo Soriano, Lizzie Amaya', 'D', '20/01/2007')\n",
            "('Guzman, Angélica Morena', 'D', '11/04/2007')\n",
            "('Guzman, Jazmin Esmeralda Belen', 'D', '31/07/2006')\n",
            "('Jaime, Anita Maria Belen', 'D', '19/04/2007')\n",
            "('Lacour Polo, Nazarena', 'D', '19/12/2005')\n",
            "('Lascano Guanca, Marcelo Fabricio', 'D', '17/02/2006')\n",
            "('Lezcano, Celia Morena', 'D', '01/07/2005')\n",
            "('Martinez, Tomas Andres', 'D', '22/03/2007')\n",
            "('Portella Valdivia, Pedro Francisco', 'D', '24/01/2007')\n",
            "('Retamal Cisneros, Zacarias Josue', 'D', '24/02/2007')\n",
            "('Rosales, Francisco Gabriel', 'D', '14/11/2006')\n",
            "('Salem Barba, Mahia', 'D', '14/10/2005')\n",
            "('Soto Camara, Agustin Ignacio', 'D', '07/11/2005')\n",
            "('Villalba, Irina', 'D', '09/09/2006')\n",
            "('Voltolini, Emanuel Tobias', 'D', '17/09/2006')\n",
            "('Zalazar, Santino Stefano', 'D', '30/09/2006')\n",
            "('Abud Laspiur, Lourdes Mariel', 'C', '05/12/2006')\n",
            "('Amador, Luana Micaela', 'C', '09/12/2006')\n",
            "('Anaquin, Leonardo Ezequiel', 'C', '06/09/2005')\n",
            "('Araoz Sanchez, Lautaro Nahuel', 'C', '28/12/2005')\n",
            "('Argañaraz, Agostina Abril', 'C', '11/10/2006')\n",
            "('Barrera, Matias Ezequiel', 'C', '27/02/2007')\n",
            "('Barrozo Vedia, Joaquin Nicolas', 'C', '15/04/2006')\n",
            "('Bettinelli, Valentino', 'C', '12/07/2006')\n",
            "('Bracamonte Martinez, Salvador', 'C', '02/11/2005')\n",
            "('Colque Rivero, Ariana Zoe Del Valle', 'C', '27/12/2006')\n",
            "('Diaz, Dulce Maitena', 'C', '11/12/2006')\n",
            "('Figueroa, Santino Josue', 'C', '12/05/2007')\n",
            "('Flores Cardozo, Agustina Tiara', 'C', '18/03/2006')\n",
            "('Gallo, Octavio Ismael', 'C', '04/08/2006')\n",
            "('Galvan, Lourdes Yamila', 'C', '19/08/2005')\n",
            "('Giangreco, Vitto Tomasso', 'C', '21/03/2007')\n",
            "('Grancara, Martina Luna', 'C', '15/12/2006')\n",
            "('Guanca, Sara Elizabeth', 'C', '17/01/2007')\n",
            "('Lopez, Victoria Constanza', 'C', '12/11/2007')\n",
            "('Mamani Garrido, Rosario Agostina', 'C', '24/10/2006')\n",
            "('Marinaro, Martin Ezequiel', 'C', '03/11/2006')\n",
            "('Merluzzi Dagum, Ignacio', 'C', '22/12/2005')\n",
            "('Messina, Martina', 'C', '13/07/2005')\n",
            "('Rasuk, Karim', 'C', '13/07/2007')\n",
            "('Rios, Lucia Magali', 'C', '22/09/2006')\n",
            "('Sanchez Flores, Matías Agustín', 'C', '15/02/2007')\n",
            "('Scarano, Renato Marcelo', 'C', '06/12/2006')\n",
            "('Sierra, Lucas Mauricio', 'C', '03/04/2005')\n",
            "('Tapia, Martin Gabriel', 'C', '30/05/2006')\n",
            "('Vilte, Mia Antonella Alondra', 'C', '10/09/2005')\n",
            "('Virgillito, Katya Milena', 'C', '19/06/2007')\n"
          ]
        }
      ]
    },
    {
      "cell_type": "markdown",
      "source": [
        "2. Genera una lista de diccionarios con los datos de las listas, donde las claves de los mismos serán:\n",
        "- \"apellido\"\n",
        "- \"nombre\"\n",
        "- \"curso\"\n",
        "- \"division\"\n",
        "- \"feha_de_nacimiento\"\n",
        "\n",
        "Muestra la información generada."
      ],
      "metadata": {
        "id": "dYEGkYZyLy9I"
      }
    },
    {
      "cell_type": "code",
      "source": [
        "for i in range(len(estudiantes_5d)):\n",
        "  apellido, nombre = estudiantes_5d[i][0].split(',')\n",
        "  estudiantes_5d[i] = {\n",
        "       'apellido': apellido.strip(),\n",
        "       'nombre': nombre.strip(),\n",
        "       'curso': '5D',\n",
        "       'division': estudiantes_5d[i][1],\n",
        "       'fecha_de_nacimiento': estudiantes_5d[i][2]\n",
        "  }\n",
        "\n",
        "for i in estudiantes_5d:\n",
        "  print(i)\n",
        "\n",
        "for i in range(len(estudiantes_5c)):\n",
        "  apellido, nombre = estudiantes_5c[i][0].split(',')\n",
        "  estudiantes_5c[i] = {\n",
        "       'apellido': apellido.strip(),\n",
        "       'nombre': nombre.strip(),\n",
        "       'curso': '5C',\n",
        "       'division': estudiantes_5c[i][1],\n",
        "       'fecha_de_nacimiento': estudiantes_5c[i][2]\n",
        "  }\n",
        "\n",
        "for i in estudiantes_5c:\n",
        "  print(i)"
      ],
      "metadata": {
        "id": "cuPS3NFm-bya",
        "outputId": "53d0c7db-4709-4226-a769-ad487312f0b5",
        "colab": {
          "base_uri": "https://localhost:8080/"
        }
      },
      "execution_count": 4,
      "outputs": [
        {
          "output_type": "stream",
          "name": "stdout",
          "text": [
            "{'apellido': 'Alurralde', 'nombre': 'Solange Stefania', 'curso': '5D', 'division': 'D', 'fecha_de_nacimiento': '02/04/2007'}\n",
            "{'apellido': 'Alvarado', 'nombre': 'Ludmila Del Milagro', 'curso': '5D', 'division': 'D', 'fecha_de_nacimiento': '06/09/2006'}\n",
            "{'apellido': 'Angel', 'nombre': 'Camila Juliana', 'curso': '5D', 'division': 'D', 'fecha_de_nacimiento': '07/03/2007'}\n",
            "{'apellido': 'Arenas', 'nombre': 'Lucas Gabriel', 'curso': '5D', 'division': 'D', 'fecha_de_nacimiento': '26/06/2007'}\n",
            "{'apellido': 'Caseres', 'nombre': 'Maria Antonia', 'curso': '5D', 'division': 'D', 'fecha_de_nacimiento': '01/07/2006'}\n",
            "{'apellido': 'Castillo', 'nombre': 'Paulina Milagros', 'curso': '5D', 'division': 'D', 'fecha_de_nacimiento': '01/06/2007'}\n",
            "{'apellido': 'Correa Segovia', 'nombre': 'Hugo Mariano', 'curso': '5D', 'division': 'D', 'fecha_de_nacimiento': '04/12/2006'}\n",
            "{'apellido': 'D Elia', 'nombre': 'Alvaro Tadeo', 'curso': '5D', 'division': 'D', 'fecha_de_nacimiento': '27/08/2006'}\n",
            "{'apellido': 'Flores', 'nombre': 'Victoria Agustina', 'curso': '5D', 'division': 'D', 'fecha_de_nacimiento': '12/12/2006'}\n",
            "{'apellido': 'Geronimo Soriano', 'nombre': 'Lizzie Amaya', 'curso': '5D', 'division': 'D', 'fecha_de_nacimiento': '20/01/2007'}\n",
            "{'apellido': 'GUZMAN', 'nombre': 'ANGÉLICA MORENA', 'curso': '5D', 'division': 'D', 'fecha_de_nacimiento': '11/04/2007'}\n",
            "{'apellido': 'Guzman', 'nombre': 'Jazmin Esmeralda Belen', 'curso': '5D', 'division': 'D', 'fecha_de_nacimiento': '31/07/2006'}\n",
            "{'apellido': 'Jaime', 'nombre': 'Anita Maria Belen', 'curso': '5D', 'division': 'D', 'fecha_de_nacimiento': '19/04/2007'}\n",
            "{'apellido': 'Lacour Polo', 'nombre': 'Nazarena', 'curso': '5D', 'division': 'D', 'fecha_de_nacimiento': '19/12/2005'}\n",
            "{'apellido': 'Lascano Guanca', 'nombre': 'Marcelo Fabricio', 'curso': '5D', 'division': 'D', 'fecha_de_nacimiento': '17/02/2006'}\n",
            "{'apellido': 'Lezcano', 'nombre': 'Celia Morena', 'curso': '5D', 'division': 'D', 'fecha_de_nacimiento': '01/07/2005'}\n",
            "{'apellido': 'Martinez', 'nombre': 'Tomas Andres', 'curso': '5D', 'division': 'D', 'fecha_de_nacimiento': '22/03/2007'}\n",
            "{'apellido': 'PORTELLA VALDIVIA', 'nombre': 'PEDRO FRANCISCO', 'curso': '5D', 'division': 'D', 'fecha_de_nacimiento': '24/01/2007'}\n",
            "{'apellido': 'Retamal Cisneros', 'nombre': 'Zacarias Josue', 'curso': '5D', 'division': 'D', 'fecha_de_nacimiento': '24/02/2007'}\n",
            "{'apellido': 'Rosales', 'nombre': 'Francisco Gabriel', 'curso': '5D', 'division': 'D', 'fecha_de_nacimiento': '14/11/2006'}\n",
            "{'apellido': 'Salem Barba', 'nombre': 'Mahia', 'curso': '5D', 'division': 'D', 'fecha_de_nacimiento': '14/10/2005'}\n",
            "{'apellido': 'Soto Camara', 'nombre': 'Agustin Ignacio', 'curso': '5D', 'division': 'D', 'fecha_de_nacimiento': '07/11/2005'}\n",
            "{'apellido': 'Villalba', 'nombre': 'Irina', 'curso': '5D', 'division': 'D', 'fecha_de_nacimiento': '09/09/2006'}\n",
            "{'apellido': 'Voltolini', 'nombre': 'Emanuel Tobias', 'curso': '5D', 'division': 'D', 'fecha_de_nacimiento': '17/09/2006'}\n",
            "{'apellido': 'Zalazar', 'nombre': 'Santino Stefano', 'curso': '5D', 'division': 'D', 'fecha_de_nacimiento': '30/09/2006'}\n",
            "{'apellido': 'ABUD LASPIUR', 'nombre': 'LOURDES MARIEL', 'curso': '5C', 'division': 'C', 'fecha_de_nacimiento': '05/12/2006'}\n",
            "{'apellido': 'Amador', 'nombre': 'Luana Micaela', 'curso': '5C', 'division': 'C', 'fecha_de_nacimiento': '09/12/2006'}\n",
            "{'apellido': 'Anaquin', 'nombre': 'Leonardo Ezequiel', 'curso': '5C', 'division': 'C', 'fecha_de_nacimiento': '06/09/2005'}\n",
            "{'apellido': 'Araoz Sanchez', 'nombre': 'Lautaro Nahuel', 'curso': '5C', 'division': 'C', 'fecha_de_nacimiento': '28/12/2005'}\n",
            "{'apellido': 'Argañaraz', 'nombre': 'Agostina Abril', 'curso': '5C', 'division': 'C', 'fecha_de_nacimiento': '11/10/2006'}\n",
            "{'apellido': 'Barrera', 'nombre': 'Matias Ezequiel', 'curso': '5C', 'division': 'C', 'fecha_de_nacimiento': '27/02/2007'}\n",
            "{'apellido': 'Barrozo Vedia', 'nombre': 'Joaquin Nicolas', 'curso': '5C', 'division': 'C', 'fecha_de_nacimiento': '15/04/2006'}\n",
            "{'apellido': 'Bettinelli', 'nombre': 'Valentino', 'curso': '5C', 'division': 'C', 'fecha_de_nacimiento': '12/07/2006'}\n",
            "{'apellido': 'Bracamonte Martinez', 'nombre': 'Salvador', 'curso': '5C', 'division': 'C', 'fecha_de_nacimiento': '02/11/2005'}\n",
            "{'apellido': 'Colque Rivero', 'nombre': 'Ariana Zoe Del Valle', 'curso': '5C', 'division': 'C', 'fecha_de_nacimiento': '27/12/2006'}\n",
            "{'apellido': 'Diaz', 'nombre': 'Dulce Maitena', 'curso': '5C', 'division': 'C', 'fecha_de_nacimiento': '11/12/2006'}\n",
            "{'apellido': 'FIGUEROA', 'nombre': 'SANTINO JOSUE', 'curso': '5C', 'division': 'C', 'fecha_de_nacimiento': '12/05/2007'}\n",
            "{'apellido': 'Flores Cardozo', 'nombre': 'Agustina Tiara', 'curso': '5C', 'division': 'C', 'fecha_de_nacimiento': '18/03/2006'}\n",
            "{'apellido': 'Gallo', 'nombre': 'Octavio Ismael', 'curso': '5C', 'division': 'C', 'fecha_de_nacimiento': '04/08/2006'}\n",
            "{'apellido': 'Galvan', 'nombre': 'Lourdes Yamila', 'curso': '5C', 'division': 'C', 'fecha_de_nacimiento': '19/08/2005'}\n",
            "{'apellido': 'Giangreco', 'nombre': 'Vitto Tomasso', 'curso': '5C', 'division': 'C', 'fecha_de_nacimiento': '21/03/2007'}\n",
            "{'apellido': 'Grancara', 'nombre': 'Martina Luna', 'curso': '5C', 'division': 'C', 'fecha_de_nacimiento': '15/12/2006'}\n",
            "{'apellido': 'Guanca', 'nombre': 'Sara Elizabeth', 'curso': '5C', 'division': 'C', 'fecha_de_nacimiento': '17/01/2007'}\n",
            "{'apellido': 'Lopez', 'nombre': 'Victoria Constanza', 'curso': '5C', 'division': 'C', 'fecha_de_nacimiento': '12/11/2007'}\n",
            "{'apellido': 'Mamani Garrido', 'nombre': 'Rosario Agostina', 'curso': '5C', 'division': 'C', 'fecha_de_nacimiento': '24/10/2006'}\n",
            "{'apellido': 'Marinaro', 'nombre': 'Martin Ezequiel', 'curso': '5C', 'division': 'C', 'fecha_de_nacimiento': '03/11/2006'}\n",
            "{'apellido': 'Merluzzi Dagum', 'nombre': 'Ignacio', 'curso': '5C', 'division': 'C', 'fecha_de_nacimiento': '22/12/2005'}\n",
            "{'apellido': 'Messina', 'nombre': 'Martina', 'curso': '5C', 'division': 'C', 'fecha_de_nacimiento': '13/07/2005'}\n",
            "{'apellido': 'RASUK', 'nombre': 'KARIM', 'curso': '5C', 'division': 'C', 'fecha_de_nacimiento': '13/07/2007'}\n",
            "{'apellido': 'Rios', 'nombre': 'Lucia Magali', 'curso': '5C', 'division': 'C', 'fecha_de_nacimiento': '22/09/2006'}\n",
            "{'apellido': 'Sanchez Flores', 'nombre': 'Matías Agustín', 'curso': '5C', 'division': 'C', 'fecha_de_nacimiento': '15/02/2007'}\n",
            "{'apellido': 'Scarano', 'nombre': 'Renato Marcelo', 'curso': '5C', 'division': 'C', 'fecha_de_nacimiento': '06/12/2006'}\n",
            "{'apellido': 'Sierra', 'nombre': 'Lucas Mauricio', 'curso': '5C', 'division': 'C', 'fecha_de_nacimiento': '03/04/2005'}\n",
            "{'apellido': 'Tapia', 'nombre': 'Martin Gabriel', 'curso': '5C', 'division': 'C', 'fecha_de_nacimiento': '30/05/2006'}\n",
            "{'apellido': 'Vilte', 'nombre': 'Mia Antonella Alondra', 'curso': '5C', 'division': 'C', 'fecha_de_nacimiento': '10/09/2005'}\n",
            "{'apellido': 'Virgillito', 'nombre': 'Katya Milena', 'curso': '5C', 'division': 'C', 'fecha_de_nacimiento': '19/06/2007'}\n"
          ]
        }
      ]
    },
    {
      "cell_type": "markdown",
      "source": [
        "3. Genera un diccionario en python, en donde la clave sea cada nombre que aparece en las listas y el valor será la cantidad de veces que se encuentra el mismo.\n",
        "Para este punto es posible fusionar ambas listas en una sola, recordá que hay un método que realiza esta acción.\n",
        "\n",
        "Mostrá la informacion generada"
      ],
      "metadata": {
        "id": "UW2dlBsGMAte"
      }
    },
    {
      "cell_type": "code",
      "source": [
        "lista_diccionario = []\n",
        "for estudiante in estudiantes:\n",
        "    un_estudiante = {}\n",
        "    nombre_y_apellido, division, fecha_nac = estudiante\n",
        "    apellido, nombre = nombre_y_apellido.split(\",\")\n",
        "    nombre = nombre.lstrip()\n",
        "    un_estudiante[\"apellido\"] = apellido\n",
        "    un_estudiante[\"nombre\"] = nombre\n",
        "    un_estudiante[\"curso\"] = 5\n",
        "    un_estudiante[\"division\"] = division\n",
        "    un_estudiante[\"fecha_de_nacimiento\"] = fecha_nac\n",
        "    lista_diccionario.append(un_estudiante)\n",
        "\n",
        "for estudiante in lista_diccionario:\n",
        "    print(estudiante)"
      ],
      "metadata": {
        "id": "EawAy4SANtkl",
        "outputId": "57455c09-4a3f-46ac-bac8-09168467b279",
        "colab": {
          "base_uri": "https://localhost:8080/"
        }
      },
      "execution_count": 5,
      "outputs": [
        {
          "output_type": "stream",
          "name": "stdout",
          "text": [
            "{'apellido': 'Alurralde', 'nombre': 'Solange Stefania', 'curso': 5, 'division': 'D', 'fecha_de_nacimiento': '02/04/2007'}\n",
            "{'apellido': 'Alvarado', 'nombre': 'Ludmila Del Milagro', 'curso': 5, 'division': 'D', 'fecha_de_nacimiento': '06/09/2006'}\n",
            "{'apellido': 'Angel', 'nombre': 'Camila Juliana', 'curso': 5, 'division': 'D', 'fecha_de_nacimiento': '07/03/2007'}\n",
            "{'apellido': 'Arenas', 'nombre': 'Lucas Gabriel', 'curso': 5, 'division': 'D', 'fecha_de_nacimiento': '26/06/2007'}\n",
            "{'apellido': 'Caseres', 'nombre': 'Maria Antonia', 'curso': 5, 'division': 'D', 'fecha_de_nacimiento': '01/07/2006'}\n",
            "{'apellido': 'Castillo', 'nombre': 'Paulina Milagros', 'curso': 5, 'division': 'D', 'fecha_de_nacimiento': '01/06/2007'}\n",
            "{'apellido': 'Correa Segovia', 'nombre': 'Hugo Mariano', 'curso': 5, 'division': 'D', 'fecha_de_nacimiento': '04/12/2006'}\n",
            "{'apellido': 'D Elia', 'nombre': 'Alvaro Tadeo', 'curso': 5, 'division': 'D', 'fecha_de_nacimiento': '27/08/2006'}\n",
            "{'apellido': 'Flores', 'nombre': 'Victoria Agustina', 'curso': 5, 'division': 'D', 'fecha_de_nacimiento': '12/12/2006'}\n",
            "{'apellido': 'Geronimo Soriano', 'nombre': 'Lizzie Amaya', 'curso': 5, 'division': 'D', 'fecha_de_nacimiento': '20/01/2007'}\n",
            "{'apellido': 'Guzman', 'nombre': 'Angélica Morena', 'curso': 5, 'division': 'D', 'fecha_de_nacimiento': '11/04/2007'}\n",
            "{'apellido': 'Guzman', 'nombre': 'Jazmin Esmeralda Belen', 'curso': 5, 'division': 'D', 'fecha_de_nacimiento': '31/07/2006'}\n",
            "{'apellido': 'Jaime', 'nombre': 'Anita Maria Belen', 'curso': 5, 'division': 'D', 'fecha_de_nacimiento': '19/04/2007'}\n",
            "{'apellido': 'Lacour Polo', 'nombre': 'Nazarena', 'curso': 5, 'division': 'D', 'fecha_de_nacimiento': '19/12/2005'}\n",
            "{'apellido': 'Lascano Guanca', 'nombre': 'Marcelo Fabricio', 'curso': 5, 'division': 'D', 'fecha_de_nacimiento': '17/02/2006'}\n",
            "{'apellido': 'Lezcano', 'nombre': 'Celia Morena', 'curso': 5, 'division': 'D', 'fecha_de_nacimiento': '01/07/2005'}\n",
            "{'apellido': 'Martinez', 'nombre': 'Tomas Andres', 'curso': 5, 'division': 'D', 'fecha_de_nacimiento': '22/03/2007'}\n",
            "{'apellido': 'Portella Valdivia', 'nombre': 'Pedro Francisco', 'curso': 5, 'division': 'D', 'fecha_de_nacimiento': '24/01/2007'}\n",
            "{'apellido': 'Retamal Cisneros', 'nombre': 'Zacarias Josue', 'curso': 5, 'division': 'D', 'fecha_de_nacimiento': '24/02/2007'}\n",
            "{'apellido': 'Rosales', 'nombre': 'Francisco Gabriel', 'curso': 5, 'division': 'D', 'fecha_de_nacimiento': '14/11/2006'}\n",
            "{'apellido': 'Salem Barba', 'nombre': 'Mahia', 'curso': 5, 'division': 'D', 'fecha_de_nacimiento': '14/10/2005'}\n",
            "{'apellido': 'Soto Camara', 'nombre': 'Agustin Ignacio', 'curso': 5, 'division': 'D', 'fecha_de_nacimiento': '07/11/2005'}\n",
            "{'apellido': 'Villalba', 'nombre': 'Irina', 'curso': 5, 'division': 'D', 'fecha_de_nacimiento': '09/09/2006'}\n",
            "{'apellido': 'Voltolini', 'nombre': 'Emanuel Tobias', 'curso': 5, 'division': 'D', 'fecha_de_nacimiento': '17/09/2006'}\n",
            "{'apellido': 'Zalazar', 'nombre': 'Santino Stefano', 'curso': 5, 'division': 'D', 'fecha_de_nacimiento': '30/09/2006'}\n",
            "{'apellido': 'Abud Laspiur', 'nombre': 'Lourdes Mariel', 'curso': 5, 'division': 'C', 'fecha_de_nacimiento': '05/12/2006'}\n",
            "{'apellido': 'Amador', 'nombre': 'Luana Micaela', 'curso': 5, 'division': 'C', 'fecha_de_nacimiento': '09/12/2006'}\n",
            "{'apellido': 'Anaquin', 'nombre': 'Leonardo Ezequiel', 'curso': 5, 'division': 'C', 'fecha_de_nacimiento': '06/09/2005'}\n",
            "{'apellido': 'Araoz Sanchez', 'nombre': 'Lautaro Nahuel', 'curso': 5, 'division': 'C', 'fecha_de_nacimiento': '28/12/2005'}\n",
            "{'apellido': 'Argañaraz', 'nombre': 'Agostina Abril', 'curso': 5, 'division': 'C', 'fecha_de_nacimiento': '11/10/2006'}\n",
            "{'apellido': 'Barrera', 'nombre': 'Matias Ezequiel', 'curso': 5, 'division': 'C', 'fecha_de_nacimiento': '27/02/2007'}\n",
            "{'apellido': 'Barrozo Vedia', 'nombre': 'Joaquin Nicolas', 'curso': 5, 'division': 'C', 'fecha_de_nacimiento': '15/04/2006'}\n",
            "{'apellido': 'Bettinelli', 'nombre': 'Valentino', 'curso': 5, 'division': 'C', 'fecha_de_nacimiento': '12/07/2006'}\n",
            "{'apellido': 'Bracamonte Martinez', 'nombre': 'Salvador', 'curso': 5, 'division': 'C', 'fecha_de_nacimiento': '02/11/2005'}\n",
            "{'apellido': 'Colque Rivero', 'nombre': 'Ariana Zoe Del Valle', 'curso': 5, 'division': 'C', 'fecha_de_nacimiento': '27/12/2006'}\n",
            "{'apellido': 'Diaz', 'nombre': 'Dulce Maitena', 'curso': 5, 'division': 'C', 'fecha_de_nacimiento': '11/12/2006'}\n",
            "{'apellido': 'Figueroa', 'nombre': 'Santino Josue', 'curso': 5, 'division': 'C', 'fecha_de_nacimiento': '12/05/2007'}\n",
            "{'apellido': 'Flores Cardozo', 'nombre': 'Agustina Tiara', 'curso': 5, 'division': 'C', 'fecha_de_nacimiento': '18/03/2006'}\n",
            "{'apellido': 'Gallo', 'nombre': 'Octavio Ismael', 'curso': 5, 'division': 'C', 'fecha_de_nacimiento': '04/08/2006'}\n",
            "{'apellido': 'Galvan', 'nombre': 'Lourdes Yamila', 'curso': 5, 'division': 'C', 'fecha_de_nacimiento': '19/08/2005'}\n",
            "{'apellido': 'Giangreco', 'nombre': 'Vitto Tomasso', 'curso': 5, 'division': 'C', 'fecha_de_nacimiento': '21/03/2007'}\n",
            "{'apellido': 'Grancara', 'nombre': 'Martina Luna', 'curso': 5, 'division': 'C', 'fecha_de_nacimiento': '15/12/2006'}\n",
            "{'apellido': 'Guanca', 'nombre': 'Sara Elizabeth', 'curso': 5, 'division': 'C', 'fecha_de_nacimiento': '17/01/2007'}\n",
            "{'apellido': 'Lopez', 'nombre': 'Victoria Constanza', 'curso': 5, 'division': 'C', 'fecha_de_nacimiento': '12/11/2007'}\n",
            "{'apellido': 'Mamani Garrido', 'nombre': 'Rosario Agostina', 'curso': 5, 'division': 'C', 'fecha_de_nacimiento': '24/10/2006'}\n",
            "{'apellido': 'Marinaro', 'nombre': 'Martin Ezequiel', 'curso': 5, 'division': 'C', 'fecha_de_nacimiento': '03/11/2006'}\n",
            "{'apellido': 'Merluzzi Dagum', 'nombre': 'Ignacio', 'curso': 5, 'division': 'C', 'fecha_de_nacimiento': '22/12/2005'}\n",
            "{'apellido': 'Messina', 'nombre': 'Martina', 'curso': 5, 'division': 'C', 'fecha_de_nacimiento': '13/07/2005'}\n",
            "{'apellido': 'Rasuk', 'nombre': 'Karim', 'curso': 5, 'division': 'C', 'fecha_de_nacimiento': '13/07/2007'}\n",
            "{'apellido': 'Rios', 'nombre': 'Lucia Magali', 'curso': 5, 'division': 'C', 'fecha_de_nacimiento': '22/09/2006'}\n",
            "{'apellido': 'Sanchez Flores', 'nombre': 'Matías Agustín', 'curso': 5, 'division': 'C', 'fecha_de_nacimiento': '15/02/2007'}\n",
            "{'apellido': 'Scarano', 'nombre': 'Renato Marcelo', 'curso': 5, 'division': 'C', 'fecha_de_nacimiento': '06/12/2006'}\n",
            "{'apellido': 'Sierra', 'nombre': 'Lucas Mauricio', 'curso': 5, 'division': 'C', 'fecha_de_nacimiento': '03/04/2005'}\n",
            "{'apellido': 'Tapia', 'nombre': 'Martin Gabriel', 'curso': 5, 'division': 'C', 'fecha_de_nacimiento': '30/05/2006'}\n",
            "{'apellido': 'Vilte', 'nombre': 'Mia Antonella Alondra', 'curso': 5, 'division': 'C', 'fecha_de_nacimiento': '10/09/2005'}\n",
            "{'apellido': 'Virgillito', 'nombre': 'Katya Milena', 'curso': 5, 'division': 'C', 'fecha_de_nacimiento': '19/06/2007'}\n"
          ]
        }
      ]
    },
    {
      "cell_type": "markdown",
      "source": [
        "4. Genera un diccionario en python, en donde la clave sea cada apellido que aparece en las listas y el valor será la cantidad de veces que se encuentra el mismo.\n",
        "Para este punto es posible fusionar ambas listas en una sola, recordá que hay un método que realiza esta acción."
      ],
      "metadata": {
        "id": "kZeEHUYVNwGV"
      }
    },
    {
      "cell_type": "code",
      "source": [
        "apellidos = {}\n",
        "for estudiante in estudiantes:\n",
        "    nombre, division, fecha_nac = estudiante\n",
        "    apellido, nombre = nombre.split(\",\")\n",
        "    if apellido in apellidos.keys():\n",
        "        apellidos[apellido] += 1\n",
        "    else:\n",
        "        apellidos[apellido] = 1\n",
        "\n",
        "for apellido, veces in apellidos.items():\n",
        "    print(f\"El apellido {apellido} aparece {veces} veces\")"
      ],
      "metadata": {
        "id": "q05GnxXgORzt",
        "outputId": "13b7afb1-6108-40bf-9a5f-28f32ab3c64a",
        "colab": {
          "base_uri": "https://localhost:8080/"
        }
      },
      "execution_count": 6,
      "outputs": [
        {
          "output_type": "stream",
          "name": "stdout",
          "text": [
            "El apellido Alurralde aparece 1 veces\n",
            "El apellido Alvarado aparece 1 veces\n",
            "El apellido Angel aparece 1 veces\n",
            "El apellido Arenas aparece 1 veces\n",
            "El apellido Caseres aparece 1 veces\n",
            "El apellido Castillo aparece 1 veces\n",
            "El apellido Correa Segovia aparece 1 veces\n",
            "El apellido D Elia aparece 1 veces\n",
            "El apellido Flores aparece 1 veces\n",
            "El apellido Geronimo Soriano aparece 1 veces\n",
            "El apellido Guzman aparece 2 veces\n",
            "El apellido Jaime aparece 1 veces\n",
            "El apellido Lacour Polo aparece 1 veces\n",
            "El apellido Lascano Guanca aparece 1 veces\n",
            "El apellido Lezcano aparece 1 veces\n",
            "El apellido Martinez aparece 1 veces\n",
            "El apellido Portella Valdivia aparece 1 veces\n",
            "El apellido Retamal Cisneros aparece 1 veces\n",
            "El apellido Rosales aparece 1 veces\n",
            "El apellido Salem Barba aparece 1 veces\n",
            "El apellido Soto Camara aparece 1 veces\n",
            "El apellido Villalba aparece 1 veces\n",
            "El apellido Voltolini aparece 1 veces\n",
            "El apellido Zalazar aparece 1 veces\n",
            "El apellido Abud Laspiur aparece 1 veces\n",
            "El apellido Amador aparece 1 veces\n",
            "El apellido Anaquin aparece 1 veces\n",
            "El apellido Araoz Sanchez aparece 1 veces\n",
            "El apellido Argañaraz aparece 1 veces\n",
            "El apellido Barrera aparece 1 veces\n",
            "El apellido Barrozo Vedia aparece 1 veces\n",
            "El apellido Bettinelli aparece 1 veces\n",
            "El apellido Bracamonte Martinez aparece 1 veces\n",
            "El apellido Colque Rivero aparece 1 veces\n",
            "El apellido Diaz aparece 1 veces\n",
            "El apellido Figueroa aparece 1 veces\n",
            "El apellido Flores Cardozo aparece 1 veces\n",
            "El apellido Gallo aparece 1 veces\n",
            "El apellido Galvan aparece 1 veces\n",
            "El apellido Giangreco aparece 1 veces\n",
            "El apellido Grancara aparece 1 veces\n",
            "El apellido Guanca aparece 1 veces\n",
            "El apellido Lopez aparece 1 veces\n",
            "El apellido Mamani Garrido aparece 1 veces\n",
            "El apellido Marinaro aparece 1 veces\n",
            "El apellido Merluzzi Dagum aparece 1 veces\n",
            "El apellido Messina aparece 1 veces\n",
            "El apellido Rasuk aparece 1 veces\n",
            "El apellido Rios aparece 1 veces\n",
            "El apellido Sanchez Flores aparece 1 veces\n",
            "El apellido Scarano aparece 1 veces\n",
            "El apellido Sierra aparece 1 veces\n",
            "El apellido Tapia aparece 1 veces\n",
            "El apellido Vilte aparece 1 veces\n",
            "El apellido Virgillito aparece 1 veces\n"
          ]
        }
      ]
    },
    {
      "cell_type": "markdown",
      "source": [
        "5. Solicita al usuario que ingrese un apellido y muestra  a todos los estudiantes con ese apellido."
      ],
      "metadata": {
        "id": "ywYmA2JQNp3T"
      }
    },
    {
      "cell_type": "code",
      "source": [
        "apellido = input(\"Ingrese un apellido: \").title()\n",
        "for i in estudiantes_5d:\n",
        "  if apellido in i['apellido']:\n",
        "    print(i)\n",
        "\n",
        "for i in estudiantes_5c:\n",
        "  if apellido in i['apellido']:\n",
        "    print(i)"
      ],
      "metadata": {
        "id": "Cnp334ZrOCjK",
        "colab": {
          "base_uri": "https://localhost:8080/"
        },
        "outputId": "10aad2a5-abb5-4956-9fad-c69905d33f45"
      },
      "execution_count": 36,
      "outputs": [
        {
          "output_type": "stream",
          "name": "stdout",
          "text": [
            "Ingrese un apellido: Geronimo \n",
            "{'apellido': 'Geronimo Soriano', 'nombre': 'Lizzie Amaya', 'curso': '5C', 'division': 'C', 'fecha_de_nacimiento': '20/01/2007'}\n"
          ]
        }
      ]
    },
    {
      "cell_type": "markdown",
      "source": [
        "6. Solicita al usuario que ingrese un nombre y muestra a todos los estudiantes con el nombre ingresado."
      ],
      "metadata": {
        "id": "iAXts6saODoU"
      }
    },
    {
      "cell_type": "code",
      "source": [
        "nombre = input(\"Ingrese un nombre: \").title()\n",
        "for i in estudiantes_5d:\n",
        "  if nombre in i['nombre']:\n",
        "    print(i)\n",
        "\n",
        "for i in estudiantes_5c:\n",
        "  if nombre in i['nombre']:\n",
        "    print(i)"
      ],
      "metadata": {
        "id": "FMRsUlvtOJS_",
        "colab": {
          "base_uri": "https://localhost:8080/"
        },
        "outputId": "056c8099-ecc9-4d60-e599-221d6e3b1b95"
      },
      "execution_count": 35,
      "outputs": [
        {
          "output_type": "stream",
          "name": "stdout",
          "text": [
            "Ingrese un nombre: Lizzie \n",
            "{'apellido': 'Geronimo Soriano', 'nombre': 'Lizzie Amaya', 'curso': '5C', 'division': 'C', 'fecha_de_nacimiento': '20/01/2007'}\n"
          ]
        }
      ]
    },
    {
      "cell_type": "markdown",
      "source": [
        "7. Busca el diccionario con tu información dentro de la lista y cámbiate de división, de tal manera que si estas en 5C, con el cambio quedes en 5D y viceversa."
      ],
      "metadata": {
        "id": "T4PFiwwdOK27"
      }
    },
    {
      "cell_type": "code",
      "source": [
        "nombre = input(\"Ingrese su nombre: \").title()\n",
        "for i in estudiantes_5d:\n",
        "  if nombre in i['nombre']:\n",
        "    i.update({'division': 'C'})\n",
        "    i.update({'curso': '5C'})\n",
        "    print(i)\n",
        "\n",
        "for i in estudiantes_5c:\n",
        "  if nombre in i['nombre']:\n",
        "    i.update({'division': 'D'})\n",
        "    i.update({'curso': '5D'})\n",
        "    print(i)"
      ],
      "metadata": {
        "id": "vjQ2X9x3OmFr",
        "outputId": "11455e50-f7e0-4887-db8d-a4ac4d604dc1",
        "colab": {
          "base_uri": "https://localhost:8080/"
        }
      },
      "execution_count": 9,
      "outputs": [
        {
          "output_type": "stream",
          "name": "stdout",
          "text": [
            "Ingrese su nombre: Lizzie\n",
            "{'apellido': 'Geronimo Soriano', 'nombre': 'Lizzie Amaya', 'curso': '5C', 'division': 'C', 'fecha_de_nacimiento': '20/01/2007'}\n"
          ]
        }
      ]
    },
    {
      "cell_type": "markdown",
      "source": [
        "8. Ordenar la lista alfabeticamente por nombre. Ascendente y descendentemente. Para elegir como ordenarla, mostrar un menú donde el usuario podrá decidir como quiere ver la salida."
      ],
      "metadata": {
        "id": "xfy8SFlZRVGf"
      }
    },
    {
      "cell_type": "code",
      "source": [
        "print(\"\"\"\n",
        "1. Ordenar alfabeticamente por nombre de manera ascendente\n",
        "2. Ordenar alfabeticamente por nombre de manera descendente\n",
        "\"\"\")\n",
        "opcion = int(input(\"Ingrese una opcion: \"))\n",
        "if opcion == 1:\n",
        "  estudiantes_5d.sort(key=lambda x: x['nombre'])\n",
        "else:\n",
        "  estudiantes_5d.sort(key=lambda x: x['nombre'], reverse=True)\n",
        "\n",
        "if opcion == 1:\n",
        "  estudiantes_5c.sort(key=lambda x: x['nombre'])\n",
        "else:\n",
        "  estudiantes_5c.sort(key=lambda x: x['nombre'], reverse=True)\n",
        "\n",
        "\n",
        "print(\"\"\"\n",
        "1. Salida en lista\n",
        "2. Salida en diccionario\n",
        "\"\"\")\n",
        "opcion_b = int(input(\"Ingrese una opcion: \"))\n",
        "if opcion_b == 1:\n",
        "  print(\"Estudiantes 5D:\", [estudiante['nombre'] for estudiante in estudiantes_5d])\n",
        "  print(\"Estudiantes 5C:\", [estudiante['nombre'] for estudiante in estudiantes_5c])\n",
        "else:\n",
        "  for estudiante in estudiantes_5d:\n",
        "    print(estudiante)\n",
        "  for estudiante in estudiantes_5c:\n",
        "    print(estudiante)"
      ],
      "metadata": {
        "id": "E4Onk1FNRUa2",
        "outputId": "b31d6751-542b-4dc2-a0a1-fe4853b19768",
        "colab": {
          "base_uri": "https://localhost:8080/"
        }
      },
      "execution_count": 12,
      "outputs": [
        {
          "output_type": "stream",
          "name": "stdout",
          "text": [
            "\n",
            "1. Ordenar alfabeticamente por nombre de manera ascendente\n",
            "2. Ordenar alfabeticamente por nombre de manera descendente\n",
            "\n",
            "Ingrese una opcion: 1\n",
            "\n",
            "1. Salida en lista\n",
            "2. Salida en diccionario\n",
            "\n",
            "Ingrese una opcion: 1\n",
            "Estudiantes 5D: ['ANGÉLICA MORENA', 'Agustin Ignacio', 'Alvaro Tadeo', 'Anita Maria Belen', 'Camila Juliana', 'Celia Morena', 'Emanuel Tobias', 'Francisco Gabriel', 'Hugo Mariano', 'Irina', 'Jazmin Esmeralda Belen', 'Lizzie Amaya', 'Lucas Gabriel', 'Ludmila Del Milagro', 'Mahia', 'Marcelo Fabricio', 'Maria Antonia', 'Nazarena', 'PEDRO FRANCISCO', 'Paulina Milagros', 'Santino Stefano', 'Solange Stefania', 'Tomas Andres', 'Victoria Agustina', 'Zacarias Josue']\n",
            "Estudiantes 5C: ['Agostina Abril', 'Agustina Tiara', 'Ariana Zoe Del Valle', 'Dulce Maitena', 'Ignacio', 'Joaquin Nicolas', 'KARIM', 'Katya Milena', 'LOURDES MARIEL', 'Lautaro Nahuel', 'Leonardo Ezequiel', 'Lourdes Yamila', 'Luana Micaela', 'Lucas Mauricio', 'Lucia Magali', 'Martin Ezequiel', 'Martin Gabriel', 'Martina', 'Martina Luna', 'Matias Ezequiel', 'Matías Agustín', 'Mia Antonella Alondra', 'Octavio Ismael', 'Renato Marcelo', 'Rosario Agostina', 'SANTINO JOSUE', 'Salvador', 'Sara Elizabeth', 'Valentino', 'Victoria Constanza', 'Vitto Tomasso']\n"
          ]
        }
      ]
    },
    {
      "cell_type": "markdown",
      "source": [
        "9. Ordenar la lista alfabeticamente por apellido. Ascendente y descendentemente. Para elegir como ordenarla, mostrar un menú donde el usuario podrá decidir como quiere ver la salida."
      ],
      "metadata": {
        "id": "lW18NgPjRcGP"
      }
    },
    {
      "cell_type": "code",
      "source": [
        "print(\"\"\"\n",
        "1. Ordenar alfabeticamente por apellido de manera ascendente\n",
        "2. Ordenar alfabeticamente por apellido de manera descendente\n",
        "\"\"\")\n",
        "opcion = int(input(\"Ingrese una opcion: \"))\n",
        "if opcion == 1:\n",
        "  estudiantes_5d.sort(key=lambda x: x[\"apellido\"])\n",
        "else:\n",
        "  estudiantes_5d.sort(key=lambda x: x[\"apellido:], reverse=True)\n",
        "\n",
        "if opcion == 1:\n",
        "  estudiantes_5c.sort(key=lambda x: x[\"apellido\"])\n",
        "else:\n",
        "  estudiantes_5c.sort(key=lambda x: x[\"apellido\"], reverse=True)\n",
        "\n",
        "print(\"\"\"\n",
        "1. Salida en lista\n",
        "2. Salida en diccionario\n",
        "\"\"\")\n",
        "opcion_b = int(input(\"Ingrese una opcion: \"))\n",
        "if opcion_b == 1:\n",
        "  print(\"Estudiantes 5D:\", [estudiante[\"apellido\"] for estudiante in estudiantes_5d])\n",
        "  print(\"Estudiantes 5C:\", [estudiante[\"apellido\"] for estudiante in estudiantes_5c])\n",
        "else:\n",
        "  for estudiante in estudiantes_5d:\n",
        "    print(estudiante)\n",
        "  for estudiante in estudiantes_5c:\n",
        "    print(estudiante)"
      ],
      "metadata": {
        "id": "jTtWBnalRcoC",
        "outputId": "b07e4fcc-be01-4a2a-a70a-a6419f6252ce",
        "colab": {
          "base_uri": "https://localhost:8080/",
          "height": 176
        }
      },
      "execution_count": 32,
      "outputs": [
        {
          "output_type": "error",
          "ename": "SyntaxError",
          "evalue": "unterminated string literal (detected at line 9) (<ipython-input-32-9835f971a605>, line 9)",
          "traceback": [
            "\u001b[0;36m  File \u001b[0;32m\"<ipython-input-32-9835f971a605>\"\u001b[0;36m, line \u001b[0;32m9\u001b[0m\n\u001b[0;31m    estudiantes_5d.sort(key=lambda x: x[\"apellido:], reverse=True)\u001b[0m\n\u001b[0m                                        ^\u001b[0m\n\u001b[0;31mSyntaxError\u001b[0m\u001b[0;31m:\u001b[0m unterminated string literal (detected at line 9)\n"
          ]
        }
      ]
    },
    {
      "cell_type": "markdown",
      "source": [
        "10. Ordena la lista por fecha de nacimiento, de manera ascendente y descendente."
      ],
      "metadata": {
        "id": "E24lH7x5Xbur"
      }
    },
    {
      "cell_type": "code",
      "source": [
        "print(\"\"\"\n",
        "1. Ordenar por fecha de nacimiento de manera ascendente\n",
        "2. Ordenar por fecha de nacimiento de manera descendente\n",
        "\"\"\")\n",
        "opcion = int(input(\"Ingrese una opcion: \"))\n",
        "if opcion == 1:\n",
        "  estudiantes_5d.sort(key=lambda x: x['fecha_de_nacimiento'])\n",
        "else:\n",
        "  estudiantes_5d.sort(key=lambda x: x['fecha_de_nacimiento'], reverse=True)\n",
        "\n",
        "if opcion == 1:\n",
        "  estudiantes_5c.sort(key=lambda x: x['fecha_de_nacimiento'])\n",
        "else:\n",
        "  estudiantes_5c.sort(key=lambda x: x['fecha_de_nacimiento'], reverse=True)\n",
        "\n",
        "print(\"\"\"\n",
        "1. Salida en lista\n",
        "2. Salida en diccionario\n",
        "\"\"\")\n",
        "\n",
        "opcion_b = int(input(\"Ingrese una opcion: \"))\n",
        "if opcion_b == 1:\n",
        "  print(\"Estudiantes 5D:\", [estudiante['fecha_de_nacimiento'] for estudiante in estudiantes_5d])\n",
        "  print(\"Estudiantes 5C:\", [estudiante['fecha_de_nacimiento'] for estudiante in estudiantes_5c])\n",
        "else:\n",
        "  for estudiante in estudiantes_5d:\n",
        "    print(estudiante)\n",
        "  for estudiante in estudiantes_5c:\n",
        "    print(estudiante)"
      ],
      "metadata": {
        "id": "9SeI3GBGXims",
        "outputId": "6e3ee1c7-e10f-4689-c3df-334e81cb71fe",
        "colab": {
          "base_uri": "https://localhost:8080/"
        }
      },
      "execution_count": 20,
      "outputs": [
        {
          "output_type": "stream",
          "name": "stdout",
          "text": [
            "\n",
            "1. Ordenar por fecha de nacimiento de manera ascendente\n",
            "2. Ordenar por fecha de nacimiento de manera descendente\n",
            "\n",
            "Ingrese una opcion: 1\n",
            "\n",
            "1. Salida en lista\n",
            "2. Salida en diccionario\n",
            "\n",
            "Ingrese una opcion: 2\n",
            "{'apellido': 'Castillo', 'nombre': 'Paulina Milagros', 'curso': '5D', 'division': 'D', 'fecha_de_nacimiento': '01/06/2007'}\n",
            "{'apellido': 'Lezcano', 'nombre': 'Celia Morena', 'curso': '5D', 'division': 'D', 'fecha_de_nacimiento': '01/07/2005'}\n",
            "{'apellido': 'Caseres', 'nombre': 'Maria Antonia', 'curso': '5D', 'division': 'D', 'fecha_de_nacimiento': '01/07/2006'}\n",
            "{'apellido': 'Alurralde', 'nombre': 'Solange Stefania', 'curso': '5D', 'division': 'D', 'fecha_de_nacimiento': '02/04/2007'}\n",
            "{'apellido': 'Correa Segovia', 'nombre': 'Hugo Mariano', 'curso': '5D', 'division': 'D', 'fecha_de_nacimiento': '04/12/2006'}\n",
            "{'apellido': 'Alvarado', 'nombre': 'Ludmila Del Milagro', 'curso': '5D', 'division': 'D', 'fecha_de_nacimiento': '06/09/2006'}\n",
            "{'apellido': 'Angel', 'nombre': 'Camila Juliana', 'curso': '5D', 'division': 'D', 'fecha_de_nacimiento': '07/03/2007'}\n",
            "{'apellido': 'Soto Camara', 'nombre': 'Agustin Ignacio', 'curso': '5D', 'division': 'D', 'fecha_de_nacimiento': '07/11/2005'}\n",
            "{'apellido': 'Villalba', 'nombre': 'Irina', 'curso': '5D', 'division': 'D', 'fecha_de_nacimiento': '09/09/2006'}\n",
            "{'apellido': 'GUZMAN', 'nombre': 'ANGÉLICA MORENA', 'curso': '5D', 'division': 'D', 'fecha_de_nacimiento': '11/04/2007'}\n",
            "{'apellido': 'Flores', 'nombre': 'Victoria Agustina', 'curso': '5D', 'division': 'D', 'fecha_de_nacimiento': '12/12/2006'}\n",
            "{'apellido': 'Salem Barba', 'nombre': 'Mahia', 'curso': '5D', 'division': 'D', 'fecha_de_nacimiento': '14/10/2005'}\n",
            "{'apellido': 'Rosales', 'nombre': 'Francisco Gabriel', 'curso': '5D', 'division': 'D', 'fecha_de_nacimiento': '14/11/2006'}\n",
            "{'apellido': 'Lascano Guanca', 'nombre': 'Marcelo Fabricio', 'curso': '5D', 'division': 'D', 'fecha_de_nacimiento': '17/02/2006'}\n",
            "{'apellido': 'Voltolini', 'nombre': 'Emanuel Tobias', 'curso': '5D', 'division': 'D', 'fecha_de_nacimiento': '17/09/2006'}\n",
            "{'apellido': 'Jaime', 'nombre': 'Anita Maria Belen', 'curso': '5D', 'division': 'D', 'fecha_de_nacimiento': '19/04/2007'}\n",
            "{'apellido': 'Lacour Polo', 'nombre': 'Nazarena', 'curso': '5D', 'division': 'D', 'fecha_de_nacimiento': '19/12/2005'}\n",
            "{'apellido': 'Geronimo Soriano', 'nombre': 'Lizzie Amaya', 'curso': '5C', 'division': 'C', 'fecha_de_nacimiento': '20/01/2007'}\n",
            "{'apellido': 'Martinez', 'nombre': 'Tomas Andres', 'curso': '5D', 'division': 'D', 'fecha_de_nacimiento': '22/03/2007'}\n",
            "{'apellido': 'PORTELLA VALDIVIA', 'nombre': 'PEDRO FRANCISCO', 'curso': '5D', 'division': 'D', 'fecha_de_nacimiento': '24/01/2007'}\n",
            "{'apellido': 'Retamal Cisneros', 'nombre': 'Zacarias Josue', 'curso': '5D', 'division': 'D', 'fecha_de_nacimiento': '24/02/2007'}\n",
            "{'apellido': 'Arenas', 'nombre': 'Lucas Gabriel', 'curso': '5D', 'division': 'D', 'fecha_de_nacimiento': '26/06/2007'}\n",
            "{'apellido': 'D Elia', 'nombre': 'Alvaro Tadeo', 'curso': '5D', 'division': 'D', 'fecha_de_nacimiento': '27/08/2006'}\n",
            "{'apellido': 'Zalazar', 'nombre': 'Santino Stefano', 'curso': '5D', 'division': 'D', 'fecha_de_nacimiento': '30/09/2006'}\n",
            "{'apellido': 'Guzman', 'nombre': 'Jazmin Esmeralda Belen', 'curso': '5D', 'division': 'D', 'fecha_de_nacimiento': '31/07/2006'}\n",
            "{'apellido': 'Bracamonte Martinez', 'nombre': 'Salvador', 'curso': '5C', 'division': 'C', 'fecha_de_nacimiento': '02/11/2005'}\n",
            "{'apellido': 'Sierra', 'nombre': 'Lucas Mauricio', 'curso': '5C', 'division': 'C', 'fecha_de_nacimiento': '03/04/2005'}\n",
            "{'apellido': 'Marinaro', 'nombre': 'Martin Ezequiel', 'curso': '5C', 'division': 'C', 'fecha_de_nacimiento': '03/11/2006'}\n",
            "{'apellido': 'Gallo', 'nombre': 'Octavio Ismael', 'curso': '5C', 'division': 'C', 'fecha_de_nacimiento': '04/08/2006'}\n",
            "{'apellido': 'ABUD LASPIUR', 'nombre': 'LOURDES MARIEL', 'curso': '5C', 'division': 'C', 'fecha_de_nacimiento': '05/12/2006'}\n",
            "{'apellido': 'Anaquin', 'nombre': 'Leonardo Ezequiel', 'curso': '5C', 'division': 'C', 'fecha_de_nacimiento': '06/09/2005'}\n",
            "{'apellido': 'Scarano', 'nombre': 'Renato Marcelo', 'curso': '5C', 'division': 'C', 'fecha_de_nacimiento': '06/12/2006'}\n",
            "{'apellido': 'Amador', 'nombre': 'Luana Micaela', 'curso': '5C', 'division': 'C', 'fecha_de_nacimiento': '09/12/2006'}\n",
            "{'apellido': 'Vilte', 'nombre': 'Mia Antonella Alondra', 'curso': '5C', 'division': 'C', 'fecha_de_nacimiento': '10/09/2005'}\n",
            "{'apellido': 'Argañaraz', 'nombre': 'Agostina Abril', 'curso': '5C', 'division': 'C', 'fecha_de_nacimiento': '11/10/2006'}\n",
            "{'apellido': 'Diaz', 'nombre': 'Dulce Maitena', 'curso': '5C', 'division': 'C', 'fecha_de_nacimiento': '11/12/2006'}\n",
            "{'apellido': 'FIGUEROA', 'nombre': 'SANTINO JOSUE', 'curso': '5C', 'division': 'C', 'fecha_de_nacimiento': '12/05/2007'}\n",
            "{'apellido': 'Bettinelli', 'nombre': 'Valentino', 'curso': '5C', 'division': 'C', 'fecha_de_nacimiento': '12/07/2006'}\n",
            "{'apellido': 'Lopez', 'nombre': 'Victoria Constanza', 'curso': '5C', 'division': 'C', 'fecha_de_nacimiento': '12/11/2007'}\n",
            "{'apellido': 'Messina', 'nombre': 'Martina', 'curso': '5C', 'division': 'C', 'fecha_de_nacimiento': '13/07/2005'}\n",
            "{'apellido': 'RASUK', 'nombre': 'KARIM', 'curso': '5C', 'division': 'C', 'fecha_de_nacimiento': '13/07/2007'}\n",
            "{'apellido': 'Sanchez Flores', 'nombre': 'Matías Agustín', 'curso': '5C', 'division': 'C', 'fecha_de_nacimiento': '15/02/2007'}\n",
            "{'apellido': 'Barrozo Vedia', 'nombre': 'Joaquin Nicolas', 'curso': '5C', 'division': 'C', 'fecha_de_nacimiento': '15/04/2006'}\n",
            "{'apellido': 'Grancara', 'nombre': 'Martina Luna', 'curso': '5C', 'division': 'C', 'fecha_de_nacimiento': '15/12/2006'}\n",
            "{'apellido': 'Guanca', 'nombre': 'Sara Elizabeth', 'curso': '5C', 'division': 'C', 'fecha_de_nacimiento': '17/01/2007'}\n",
            "{'apellido': 'Flores Cardozo', 'nombre': 'Agustina Tiara', 'curso': '5C', 'division': 'C', 'fecha_de_nacimiento': '18/03/2006'}\n",
            "{'apellido': 'Virgillito', 'nombre': 'Katya Milena', 'curso': '5C', 'division': 'C', 'fecha_de_nacimiento': '19/06/2007'}\n",
            "{'apellido': 'Galvan', 'nombre': 'Lourdes Yamila', 'curso': '5C', 'division': 'C', 'fecha_de_nacimiento': '19/08/2005'}\n",
            "{'apellido': 'Giangreco', 'nombre': 'Vitto Tomasso', 'curso': '5C', 'division': 'C', 'fecha_de_nacimiento': '21/03/2007'}\n",
            "{'apellido': 'Rios', 'nombre': 'Lucia Magali', 'curso': '5C', 'division': 'C', 'fecha_de_nacimiento': '22/09/2006'}\n",
            "{'apellido': 'Merluzzi Dagum', 'nombre': 'Ignacio', 'curso': '5C', 'division': 'C', 'fecha_de_nacimiento': '22/12/2005'}\n",
            "{'apellido': 'Mamani Garrido', 'nombre': 'Rosario Agostina', 'curso': '5C', 'division': 'C', 'fecha_de_nacimiento': '24/10/2006'}\n",
            "{'apellido': 'Barrera', 'nombre': 'Matias Ezequiel', 'curso': '5C', 'division': 'C', 'fecha_de_nacimiento': '27/02/2007'}\n",
            "{'apellido': 'Colque Rivero', 'nombre': 'Ariana Zoe Del Valle', 'curso': '5C', 'division': 'C', 'fecha_de_nacimiento': '27/12/2006'}\n",
            "{'apellido': 'Araoz Sanchez', 'nombre': 'Lautaro Nahuel', 'curso': '5C', 'division': 'C', 'fecha_de_nacimiento': '28/12/2005'}\n",
            "{'apellido': 'Tapia', 'nombre': 'Martin Gabriel', 'curso': '5C', 'division': 'C', 'fecha_de_nacimiento': '30/05/2006'}\n"
          ]
        }
      ]
    },
    {
      "cell_type": "markdown",
      "source": [
        "11. Generar una estuctura de diccionario anidado en donde la clave sea el nombre del estudiante y el valor sea un diccionario con los datos del mismo, de la siguiente manera:\n",
        "\n",
        "\n",
        "\n",
        "\n",
        "```python\n",
        "estudiantes = {\n",
        "    \"Juan Perez\": {\n",
        "        \"año\": 2024,\n",
        "        \"división\": \"5D\",\n",
        "        \"fecha de nacimiento\": \"15/03/2006\"\n",
        "    },\n",
        "    \"Maria Gomez\": {\n",
        "        \"año\": 2024,\n",
        "        \"división\": \"5D\",\n",
        "        \"fecha de nacimiento\": \"22/07/2006\"\n",
        "    },\n",
        "    \"Carlos Lopez\": {\n",
        "        \"año\": 2024,\n",
        "        \"división\": \"5D\",\n",
        "        \"fecha de nacimiento\": \"05/10/2006\"\n",
        "    }\n",
        "}\n",
        "```\n",
        "\n",
        "\n",
        "\n",
        "\n"
      ],
      "metadata": {
        "id": "vOY6K_ydRc3Q"
      }
    },
    {
      "cell_type": "code",
      "source": [
        "estudiantes_5d_01 = {}\n",
        "for i in estudiantes_5d:\n",
        "  key = i['apellido'] + ', ' + i['nombre']\n",
        "  estudiantes_5d_01[key] = {\n",
        "\n",
        "        \"año\": 2024,\n",
        "        \"división\": \"5D\",\n",
        "        \"fecha de nacimiento\": i[\"fecha_de_nacimiento\"]\n",
        "    }\n",
        "\n",
        "for i in estudiantes_5d_01:\n",
        "  print(i, estudiantes_5d_01[i])\n",
        "\n",
        "estudiantes_5c_01 = {}\n",
        "for i in estudiantes_5c:\n",
        "  key = i['apellido'] + ', ' + i['nombre']\n",
        "  estudiantes_5c_01[key] = {\n",
        "      \"año\": 2024,\n",
        "        \"división\": \"5D\",\n",
        "        \"fecha de nacimiento\": i[\"fecha_de_nacimiento\"]\n",
        "\n",
        "  }\n",
        "\n",
        "for i in estudiantes_5c_01:\n",
        "  print(i, estudiantes_5c_01[i])"
      ],
      "metadata": {
        "id": "9JDrd3WqRdTi",
        "outputId": "45816320-6ef5-44c0-9542-4cc2526ff534",
        "colab": {
          "base_uri": "https://localhost:8080/"
        }
      },
      "execution_count": 31,
      "outputs": [
        {
          "output_type": "stream",
          "name": "stdout",
          "text": [
            "Castillo, Paulina Milagros {'año': 2024, 'división': '5D', 'fecha de nacimiento': '01/06/2007'}\n",
            "Lezcano, Celia Morena {'año': 2024, 'división': '5D', 'fecha de nacimiento': '01/07/2005'}\n",
            "Caseres, Maria Antonia {'año': 2024, 'división': '5D', 'fecha de nacimiento': '01/07/2006'}\n",
            "Alurralde, Solange Stefania {'año': 2024, 'división': '5D', 'fecha de nacimiento': '02/04/2007'}\n",
            "Correa Segovia, Hugo Mariano {'año': 2024, 'división': '5D', 'fecha de nacimiento': '04/12/2006'}\n",
            "Alvarado, Ludmila Del Milagro {'año': 2024, 'división': '5D', 'fecha de nacimiento': '06/09/2006'}\n",
            "Angel, Camila Juliana {'año': 2024, 'división': '5D', 'fecha de nacimiento': '07/03/2007'}\n",
            "Soto Camara, Agustin Ignacio {'año': 2024, 'división': '5D', 'fecha de nacimiento': '07/11/2005'}\n",
            "Villalba, Irina {'año': 2024, 'división': '5D', 'fecha de nacimiento': '09/09/2006'}\n",
            "GUZMAN, ANGÉLICA MORENA {'año': 2024, 'división': '5D', 'fecha de nacimiento': '11/04/2007'}\n",
            "Flores, Victoria Agustina {'año': 2024, 'división': '5D', 'fecha de nacimiento': '12/12/2006'}\n",
            "Salem Barba, Mahia {'año': 2024, 'división': '5D', 'fecha de nacimiento': '14/10/2005'}\n",
            "Rosales, Francisco Gabriel {'año': 2024, 'división': '5D', 'fecha de nacimiento': '14/11/2006'}\n",
            "Lascano Guanca, Marcelo Fabricio {'año': 2024, 'división': '5D', 'fecha de nacimiento': '17/02/2006'}\n",
            "Voltolini, Emanuel Tobias {'año': 2024, 'división': '5D', 'fecha de nacimiento': '17/09/2006'}\n",
            "Jaime, Anita Maria Belen {'año': 2024, 'división': '5D', 'fecha de nacimiento': '19/04/2007'}\n",
            "Lacour Polo, Nazarena {'año': 2024, 'división': '5D', 'fecha de nacimiento': '19/12/2005'}\n",
            "Geronimo Soriano, Lizzie Amaya {'año': 2024, 'división': '5D', 'fecha de nacimiento': '20/01/2007'}\n",
            "Martinez, Tomas Andres {'año': 2024, 'división': '5D', 'fecha de nacimiento': '22/03/2007'}\n",
            "PORTELLA VALDIVIA, PEDRO FRANCISCO {'año': 2024, 'división': '5D', 'fecha de nacimiento': '24/01/2007'}\n",
            "Retamal Cisneros, Zacarias Josue {'año': 2024, 'división': '5D', 'fecha de nacimiento': '24/02/2007'}\n",
            "Arenas, Lucas Gabriel {'año': 2024, 'división': '5D', 'fecha de nacimiento': '26/06/2007'}\n",
            "D Elia, Alvaro Tadeo {'año': 2024, 'división': '5D', 'fecha de nacimiento': '27/08/2006'}\n",
            "Zalazar, Santino Stefano {'año': 2024, 'división': '5D', 'fecha de nacimiento': '30/09/2006'}\n",
            "Guzman, Jazmin Esmeralda Belen {'año': 2024, 'división': '5D', 'fecha de nacimiento': '31/07/2006'}\n",
            "Bracamonte Martinez, Salvador {'año': 2024, 'división': '5D', 'fecha de nacimiento': '02/11/2005'}\n",
            "Sierra, Lucas Mauricio {'año': 2024, 'división': '5D', 'fecha de nacimiento': '03/04/2005'}\n",
            "Marinaro, Martin Ezequiel {'año': 2024, 'división': '5D', 'fecha de nacimiento': '03/11/2006'}\n",
            "Gallo, Octavio Ismael {'año': 2024, 'división': '5D', 'fecha de nacimiento': '04/08/2006'}\n",
            "ABUD LASPIUR, LOURDES MARIEL {'año': 2024, 'división': '5D', 'fecha de nacimiento': '05/12/2006'}\n",
            "Anaquin, Leonardo Ezequiel {'año': 2024, 'división': '5D', 'fecha de nacimiento': '06/09/2005'}\n",
            "Scarano, Renato Marcelo {'año': 2024, 'división': '5D', 'fecha de nacimiento': '06/12/2006'}\n",
            "Amador, Luana Micaela {'año': 2024, 'división': '5D', 'fecha de nacimiento': '09/12/2006'}\n",
            "Vilte, Mia Antonella Alondra {'año': 2024, 'división': '5D', 'fecha de nacimiento': '10/09/2005'}\n",
            "Argañaraz, Agostina Abril {'año': 2024, 'división': '5D', 'fecha de nacimiento': '11/10/2006'}\n",
            "Diaz, Dulce Maitena {'año': 2024, 'división': '5D', 'fecha de nacimiento': '11/12/2006'}\n",
            "FIGUEROA, SANTINO JOSUE {'año': 2024, 'división': '5D', 'fecha de nacimiento': '12/05/2007'}\n",
            "Bettinelli, Valentino {'año': 2024, 'división': '5D', 'fecha de nacimiento': '12/07/2006'}\n",
            "Lopez, Victoria Constanza {'año': 2024, 'división': '5D', 'fecha de nacimiento': '12/11/2007'}\n",
            "Messina, Martina {'año': 2024, 'división': '5D', 'fecha de nacimiento': '13/07/2005'}\n",
            "RASUK, KARIM {'año': 2024, 'división': '5D', 'fecha de nacimiento': '13/07/2007'}\n",
            "Sanchez Flores, Matías Agustín {'año': 2024, 'división': '5D', 'fecha de nacimiento': '15/02/2007'}\n",
            "Barrozo Vedia, Joaquin Nicolas {'año': 2024, 'división': '5D', 'fecha de nacimiento': '15/04/2006'}\n",
            "Grancara, Martina Luna {'año': 2024, 'división': '5D', 'fecha de nacimiento': '15/12/2006'}\n",
            "Guanca, Sara Elizabeth {'año': 2024, 'división': '5D', 'fecha de nacimiento': '17/01/2007'}\n",
            "Flores Cardozo, Agustina Tiara {'año': 2024, 'división': '5D', 'fecha de nacimiento': '18/03/2006'}\n",
            "Virgillito, Katya Milena {'año': 2024, 'división': '5D', 'fecha de nacimiento': '19/06/2007'}\n",
            "Galvan, Lourdes Yamila {'año': 2024, 'división': '5D', 'fecha de nacimiento': '19/08/2005'}\n",
            "Giangreco, Vitto Tomasso {'año': 2024, 'división': '5D', 'fecha de nacimiento': '21/03/2007'}\n",
            "Rios, Lucia Magali {'año': 2024, 'división': '5D', 'fecha de nacimiento': '22/09/2006'}\n",
            "Merluzzi Dagum, Ignacio {'año': 2024, 'división': '5D', 'fecha de nacimiento': '22/12/2005'}\n",
            "Mamani Garrido, Rosario Agostina {'año': 2024, 'división': '5D', 'fecha de nacimiento': '24/10/2006'}\n",
            "Barrera, Matias Ezequiel {'año': 2024, 'división': '5D', 'fecha de nacimiento': '27/02/2007'}\n",
            "Colque Rivero, Ariana Zoe Del Valle {'año': 2024, 'división': '5D', 'fecha de nacimiento': '27/12/2006'}\n",
            "Araoz Sanchez, Lautaro Nahuel {'año': 2024, 'división': '5D', 'fecha de nacimiento': '28/12/2005'}\n",
            "Tapia, Martin Gabriel {'año': 2024, 'división': '5D', 'fecha de nacimiento': '30/05/2006'}\n"
          ]
        }
      ]
    }
  ]
}