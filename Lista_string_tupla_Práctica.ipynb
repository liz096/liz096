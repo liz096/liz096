{
  "nbformat": 4,
  "nbformat_minor": 0,
  "metadata": {
    "colab": {
      "provenance": [],
      "include_colab_link": true
    },
    "kernelspec": {
      "name": "python3",
      "display_name": "Python 3"
    },
    "language_info": {
      "name": "python"
    }
  },
  "cells": [
    {
      "cell_type": "markdown",
      "metadata": {
        "id": "view-in-github",
        "colab_type": "text"
      },
      "source": [
        "<a href=\"https://colab.research.google.com/github/liz096/liz096/blob/main/Lista_string_tupla_Pr%C3%A1ctica.ipynb\" target=\"_parent\"><img src=\"https://colab.research.google.com/assets/colab-badge.svg\" alt=\"Open In Colab\"/></a>"
      ]
    },
    {
      "cell_type": "code",
      "execution_count": null,
      "metadata": {
        "id": "8VOD-zpMJovw"
      },
      "outputs": [],
      "source": [
        "# Lista de alumnos\n",
        "alumnos = [\n",
        "    \"Alurralde, Solange Stefania\",\n",
        "    \"Alvarado, Ludmila Del Milagro\",\n",
        "    \"Angel, Camila Juliana\",\n",
        "    \"Arenas, Lucas Gabriel\",\n",
        "    \"Caseres, Maria Antonia\",\n",
        "    \"Castillo, Paulina Milagros\",\n",
        "    \"Correa Segovia, Hugo Mariano\",\n",
        "    \"D Elia, Alvaro Tadeo\",\n",
        "    \"Flores, Victoria Agustina\",\n",
        "    \"Geronimo Soriano, Lizzie Amaya\",\n",
        "    \"GUZMAN, ANGÉLICA MORENA\",\n",
        "    \"Guzman, Jazmin Esmeralda Belen\",\n",
        "    \"Jaime, Anita Maria Belen\",\n",
        "    \"Lacour Polo, Nazarena\",\n",
        "    \"Lascano Guanca, Marcelo Fabricio\",\n",
        "    \"Lezcano, Celia Morena\",\n",
        "    \"Mamani Kynast, Nicolas Mauricio\",\n",
        "    \"Martinez, Tomas Andres\",\n",
        "    \"PORTELLA VALDIVIA, PEDRO FRANCISCO\",\n",
        "    \"Retamal Cisneros, Zacarias Josue\",\n",
        "    \"Rosales, Francisco Gabriel\",\n",
        "    \"Salem Barba, Mahia\",\n",
        "    \"Soto Camara, Agustin Ignacio\",\n",
        "    \"Villalba, Irina\",\n",
        "    \"Voltolini, Emanuel Tobias\",\n",
        "    \"Zalazar, Santino Stefano\",\n",
        "    \"ABUD LASPIUR, LOURDES MARIEL\",\n",
        "    \"Amador, Luana Micaela\",\n",
        "    \"Anaquin, Leonardo Ezequiel\",\n",
        "    \"Araoz Sanchez, Lautaro Nahuel\",\n",
        "    \"Argañaraz, Agostina Abril\",\n",
        "    \"Barrera, Matias Ezequiel\",\n",
        "    \"Barrozo Vedia, Joaquin Nicolas\",\n",
        "    \"Bettinelli, Valentino\",\n",
        "    \"Bracamonte Martinez, Salvador\",\n",
        "    \"Colque Rivero, Ariana Zoe Del Valle\",\n",
        "    \"Diaz, Dulce Maitena\",\n",
        "    \"FIGUEROA, SANTINO JOSUE\",\n",
        "    \"Flores Cardozo, Agustina Tiara\",\n",
        "    \"Gallo, Octavio Ismael\",\n",
        "    \"Galvan, Lourdes Yamila\",\n",
        "    \"Giangreco, Vitto Tomasso\",\n",
        "    \"Grancara, Martina Luna\",\n",
        "    \"Guanca, Sara Elizabeth\",\n",
        "    \"Lopez, Victoria Constanza\",\n",
        "    \"Mamani Garrido, Rosario Agostina\",\n",
        "    \"Marinaro, Martin Ezequiel\",\n",
        "    \"Merluzzi Dagum, Ignacio\",\n",
        "    \"Messina, Martina\",\n",
        "    \"RASUK, KARIM\", \"Rios, Lucia Magali\",\n",
        "    \"Sanchez Flores, Matías Agustín\",\n",
        "    \"Scarano, Renato Marcelo\",\n",
        "    \"Sierra, Lucas Mauricio\",\n",
        "    \"Tapia, Martin Gabriel\",\n",
        "    \"Vilte, Mia Antonella Alondra\",\n",
        "    \"Virgillito, Katya Milena\"\n",
        "]"
      ]
    },
    {
      "cell_type": "markdown",
      "source": [
        "## Dada la lista estudiantes:\n",
        "> - Hacer una celda para resolver cada punto.\n",
        "- El TP resuelto será revisado en tu repositorio, no es necesario que lo envíes, pero sí que lo pushees correctamente.\n",
        "- En la nota inicial se contempla:\n",
        "  - La creación del fork.\n",
        "  - El pusheo de los cambios realizados.\n",
        "  - La resolución de los ejercicios propuestos.\n"
      ],
      "metadata": {
        "id": "rd6Ug6v3J4uN"
      }
    },
    {
      "cell_type": "markdown",
      "source": [
        "1. Reemplaza todos los valores por los que obtengas del método title(). De esta manera tu lista quedara con los datos más homogéneos."
      ],
      "metadata": {
        "id": "wRLng-uURyJ3"
      }
    },
    {
      "cell_type": "code",
      "source": [
        "for i in range(len(alumnos)):\n",
        "\talumnos[i] = alumnos[i].title()\n",
        "\n",
        "for alumno in alumnos:\n",
        "\tprint(alumno)"
      ],
      "metadata": {
        "id": "8_-pTJ7UmqPY",
        "colab": {
          "base_uri": "https://localhost:8080/"
        },
        "outputId": "2cb67409-43c8-4a1c-e5d4-afbe16289993"
      },
      "execution_count": null,
      "outputs": [
        {
          "output_type": "stream",
          "name": "stdout",
          "text": [
            "Alurralde, Solange Stefania\n",
            "Alvarado, Ludmila Del Milagro\n",
            "Angel, Camila Juliana\n",
            "Arenas, Lucas Gabriel\n",
            "Caseres, Maria Antonia\n",
            "Castillo, Paulina Milagros\n",
            "Correa Segovia, Hugo Mariano\n",
            "D Elia, Alvaro Tadeo\n",
            "Flores, Victoria Agustina\n",
            "Geronimo Soriano, Lizzie Amaya\n",
            "Guzman, Angélica Morena\n",
            "Guzman, Jazmin Esmeralda Belen\n",
            "Jaime, Anita Maria Belen\n",
            "Lacour Polo, Nazarena\n",
            "Lascano Guanca, Marcelo Fabricio\n",
            "Lezcano, Celia Morena\n",
            "Mamani Kynast, Nicolas Mauricio\n",
            "Martinez, Tomas Andres\n",
            "Portella Valdivia, Pedro Francisco\n",
            "Retamal Cisneros, Zacarias Josue\n",
            "Rosales, Francisco Gabriel\n",
            "Salem Barba, Mahia\n",
            "Soto Camara, Agustin Ignacio\n",
            "Villalba, Irina\n",
            "Voltolini, Emanuel Tobias\n",
            "Zalazar, Santino Stefano\n",
            "Abud Laspiur, Lourdes Mariel\n",
            "Amador, Luana Micaela\n",
            "Anaquin, Leonardo Ezequiel\n",
            "Araoz Sanchez, Lautaro Nahuel\n",
            "Argañaraz, Agostina Abril\n",
            "Barrera, Matias Ezequiel\n",
            "Barrozo Vedia, Joaquin Nicolas\n",
            "Bettinelli, Valentino\n",
            "Bracamonte Martinez, Salvador\n",
            "Colque Rivero, Ariana Zoe Del Valle\n",
            "Diaz, Dulce Maitena\n",
            "Figueroa, Santino Josue\n",
            "Flores Cardozo, Agustina Tiara\n",
            "Gallo, Octavio Ismael\n",
            "Galvan, Lourdes Yamila\n",
            "Giangreco, Vitto Tomasso\n",
            "Grancara, Martina Luna\n",
            "Guanca, Sara Elizabeth\n",
            "Lopez, Victoria Constanza\n",
            "Mamani Garrido, Rosario Agostina\n",
            "Marinaro, Martin Ezequiel\n",
            "Merluzzi Dagum, Ignacio\n",
            "Messina, Martina\n",
            "Rasuk, Karim\n",
            "Rios, Lucia Magali\n",
            "Sanchez Flores, Matías Agustín\n",
            "Scarano, Renato Marcelo\n",
            "Sierra, Lucas Mauricio\n",
            "Tapia, Martin Gabriel\n",
            "Vilte, Mia Antonella Alondra\n",
            "Virgillito, Katya Milena\n"
          ]
        }
      ]
    },
    {
      "cell_type": "markdown",
      "source": [
        "2. Desarrolla un script que permita ingresar un nombre y muestre cuantas veces aparece este en la lista\n"
      ],
      "metadata": {
        "id": "dYEGkYZyLy9I"
      }
    },
    {
      "cell_type": "code",
      "source": [
        "nombre = input(\"Ingrese un nombre:\").title()\n",
        "nombres = []\n",
        "for alumno in alumnos:\n",
        "\talumno_nombres = alumno.replace(\",\",\" \").split()\n",
        "\tnombres.extend(alumno_nombres)\n",
        "print(f\"El nombre {nombre} aparece {nombres.count(nombre)} veces en la lista\")"
      ],
      "metadata": {
        "id": "2EzQjUqbmvTB",
        "colab": {
          "base_uri": "https://localhost:8080/"
        },
        "outputId": "7bd9b92a-2ccb-4412-c21f-ba721b328513"
      },
      "execution_count": null,
      "outputs": [
        {
          "output_type": "stream",
          "name": "stdout",
          "text": [
            "Ingrese un nombre:Agustin\n",
            "El nombre Agustin aparece 1 veces en la lista\n"
          ]
        }
      ]
    },
    {
      "cell_type": "markdown",
      "source": [
        "3. Desarrolla un script en python que permita ingresar un nombre y mostrar en que posición de la lista se encuentra el mismo. Realiza las combinaciones necesarias para que no se genere un error si es que el nombre no existe."
      ],
      "metadata": {
        "id": "UW2dlBsGMAte"
      }
    },
    {
      "cell_type": "code",
      "source": [
        "nombre = input(\"Ingrese un nombre:\").title()\n",
        "if nombre in alumnos:\n",
        "  posicion = alumnos.index(nombre)\n",
        "  print(f\"El nombre {nombre} se encuentra en la posición {posicion}.\")\n",
        "else:\n",
        "  print(f\"El nombre {nombre} no se encuentra en la lista.\")"
      ],
      "metadata": {
        "id": "WG4Eae3PnAog",
        "colab": {
          "base_uri": "https://localhost:8080/"
        },
        "outputId": "68403405-f903-4087-f3dc-828992d37a0c"
      },
      "execution_count": null,
      "outputs": [
        {
          "output_type": "stream",
          "name": "stdout",
          "text": [
            "Ingrese un nombre:Messina, Martina\n",
            "El nombre Messina, Martina se encuentra en la posición 48.\n"
          ]
        }
      ]
    },
    {
      "cell_type": "markdown",
      "source": [
        "4. Agrega un nombre al final de la lista, otro al principio y otro en la posición anterior a la de tu nombre en la lista. Tene en cuenta el formato usado para ingresar los datos: \"apellidos, nombres\""
      ],
      "metadata": {
        "id": "kZeEHUYVNwGV"
      }
    },
    {
      "cell_type": "code",
      "source": [
        "nombre = input(\"Ingrese un nombre:\").title()\n",
        "apellido = input(\"Ingrese un apellido:\").title()\n",
        "nombre_completo = apellido + \", \" + nombre\n",
        "alumnos.append(nombre_completo)\n",
        "alumnos.insert(0, nombre_completo)\n",
        "\n",
        "nombre = \"Voltolini, Emanuel Tobias\"\n",
        "if nombre in alumnos:\n",
        "  posicion = alumnos.index(nombre)\n",
        "  alumnos.insert(posicion, nombre_completo)\n",
        "else:\n",
        "  print(f\"El nombre {nombre} no se encuentra en la lista.\")\n",
        "\n",
        "for alumno in alumnos:\n",
        "  print(alumno)"
      ],
      "metadata": {
        "id": "TKepEANwxgLv",
        "colab": {
          "base_uri": "https://localhost:8080/"
        },
        "outputId": "26e7a496-106a-48ba-af6c-0ad556441cc5"
      },
      "execution_count": null,
      "outputs": [
        {
          "output_type": "stream",
          "name": "stdout",
          "text": [
            "Ingrese un nombre:Juan\n",
            "Ingrese un apellido:MArquez\n",
            "Marquez, Juan\n",
            "Marquez, Juan\n",
            "Alurralde, Solange Stefania\n",
            "Alvarado, Ludmila Del Milagro\n",
            "Angel, Camila Juliana\n",
            "Arenas, Lucas Gabriel\n",
            "Caseres, Maria Antonia\n",
            "Castillo, Paulina Milagros\n",
            "Correa Segovia, Hugo Mariano\n",
            "D Elia, Alvaro Tadeo\n",
            "Flores, Victoria Agustina\n",
            "Geronimo Soriano, Lizzie Amaya\n",
            "Guzman, Angélica Morena\n",
            "Guzman, Jazmin Esmeralda Belen\n",
            "Jaime, Anita Maria Belen\n",
            "Lacour Polo, Nazarena\n",
            "Lascano Guanca, Marcelo Fabricio\n",
            "Lezcano, Celia Morena\n",
            "Mamani Kynast, Nicolas Mauricio\n",
            "Martinez, Tomas Andres\n",
            "Portella Valdivia, Pedro Francisco\n",
            "Retamal Cisneros, Zacarias Josue\n",
            "Rosales, Francisco Gabriel\n",
            "Salem Barba, Mahia\n",
            "Soto Camara, Agustin Ignacio\n",
            "Villalba, Irina\n",
            "Marquez, Juan\n",
            "Voltolini, Emanuel Tobias\n",
            "Zalazar, Santino Stefano\n",
            "Abud Laspiur, Lourdes Mariel\n",
            "Amador, Luana Micaela\n",
            "Anaquin, Leonardo Ezequiel\n",
            "Araoz Sanchez, Lautaro Nahuel\n",
            "Argañaraz, Agostina Abril\n",
            "Barrera, Matias Ezequiel\n",
            "Barrozo Vedia, Joaquin Nicolas\n",
            "Bettinelli, Valentino\n",
            "Bracamonte Martinez, Salvador\n",
            "Colque Rivero, Ariana Zoe Del Valle\n",
            "Diaz, Dulce Maitena\n",
            "Figueroa, Santino Josue\n",
            "Flores Cardozo, Agustina Tiara\n",
            "Gallo, Octavio Ismael\n",
            "Galvan, Lourdes Yamila\n",
            "Giangreco, Vitto Tomasso\n",
            "Grancara, Martina Luna\n",
            "Guanca, Sara Elizabeth\n",
            "Lopez, Victoria Constanza\n",
            "Mamani Garrido, Rosario Agostina\n",
            "Marinaro, Martin Ezequiel\n",
            "Merluzzi Dagum, Ignacio\n",
            "Messina, Martina\n",
            "Rasuk, Karim\n",
            "Rios, Lucia Magali\n",
            "Sanchez Flores, Matías Agustín\n",
            "Scarano, Renato Marcelo\n",
            "Sierra, Lucas Mauricio\n",
            "Tapia, Martin Gabriel\n",
            "Vilte, Mia Antonella Alondra\n",
            "Virgillito, Katya Milena\n",
            "Marquez, Juan\n",
            "Marquez, Juan\n"
          ]
        }
      ]
    },
    {
      "cell_type": "markdown",
      "source": [
        "5. Mostrá cada elemento de la lista mientras la vacias usando el metodo pop(). Para lograr esto usá la estructura while.\n",
        "\n",
        "Tene en cuenta que:\n",
        "\n",
        "\n",
        ">```python\n",
        "bool([]) = False\n",
        "```\n",
        "\n"
      ],
      "metadata": {
        "id": "b_we1Oz4OUBN"
      }
    },
    {
      "cell_type": "code",
      "source": [
        "while alumnos:\n",
        "  alumno = alumnos.pop()\n",
        "  print(f\"Elemento eliminado: {alumno}\")"
      ],
      "metadata": {
        "id": "bjn9DhewPhWF",
        "colab": {
          "base_uri": "https://localhost:8080/"
        },
        "outputId": "18df3553-cbf0-4c27-9aeb-08506f927313"
      },
      "execution_count": null,
      "outputs": [
        {
          "output_type": "stream",
          "name": "stdout",
          "text": [
            "Virgillito, Katya Milena\n",
            "Vilte, Mia Antonella Alondra\n",
            "Tapia, Martin Gabriel\n",
            "Sierra, Lucas Mauricio\n",
            "Scarano, Renato Marcelo\n",
            "Sanchez Flores, Matías Agustín\n",
            "Rios, Lucia Magali\n",
            "Rasuk, Karim\n",
            "Messina, Martina\n",
            "Merluzzi Dagum, Ignacio\n",
            "Marinaro, Martin Ezequiel\n",
            "Mamani Garrido, Rosario Agostina\n",
            "Lopez, Victoria Constanza\n",
            "Guanca, Sara Elizabeth\n",
            "Grancara, Martina Luna\n",
            "Giangreco, Vitto Tomasso\n",
            "Galvan, Lourdes Yamila\n",
            "Gallo, Octavio Ismael\n",
            "Flores Cardozo, Agustina Tiara\n",
            "Figueroa, Santino Josue\n",
            "Diaz, Dulce Maitena\n",
            "Colque Rivero, Ariana Zoe Del Valle\n",
            "Bracamonte Martinez, Salvador\n",
            "Bettinelli, Valentino\n",
            "Barrozo Vedia, Joaquin Nicolas\n",
            "Barrera, Matias Ezequiel\n",
            "Argañaraz, Agostina Abril\n",
            "Araoz Sanchez, Lautaro Nahuel\n",
            "Anaquin, Leonardo Ezequiel\n",
            "Amador, Luana Micaela\n",
            "Abud Laspiur, Lourdes Mariel\n",
            "Zalazar, Santino Stefano\n",
            "Voltolini, Emanuel Tobias\n",
            "Villalba, Irina\n",
            "Soto Camara, Agustin Ignacio\n",
            "Salem Barba, Mahia\n",
            "Rosales, Francisco Gabriel\n",
            "Retamal Cisneros, Zacarias Josue\n",
            "Portella Valdivia, Pedro Francisco\n",
            "Martinez, Tomas Andres\n",
            "Mamani Kynast, Nicolas Mauricio\n",
            "Lezcano, Celia Morena\n",
            "Lascano Guanca, Marcelo Fabricio\n",
            "Lacour Polo, Nazarena\n",
            "Jaime, Anita Maria Belen\n",
            "Guzman, Jazmin Esmeralda Belen\n",
            "Guzman, Angélica Morena\n",
            "Geronimo Soriano, Lizzie Amaya\n",
            "Flores, Victoria Agustina\n",
            "D Elia, Alvaro Tadeo\n",
            "Correa Segovia, Hugo Mariano\n",
            "Castillo, Paulina Milagros\n",
            "Caseres, Maria Antonia\n",
            "Arenas, Lucas Gabriel\n",
            "Angel, Camila Juliana\n",
            "Alvarado, Ludmila Del Milagro\n",
            "Alurralde, Solange Stefania\n"
          ]
        }
      ]
    },
    {
      "cell_type": "markdown",
      "source": [
        "6. Crea un menú para ordenar la lista de manera ascendente o descendente. Realiza esta acción y muestra el resultado según la opción elegida por el usuario."
      ],
      "metadata": {
        "id": "xY4BuqGdQBF1"
      }
    },
    {
      "cell_type": "code",
      "source": [
        "# Otra manera dada del profe:\n",
        "print(\"\"\"\n",
        "    a - Ordenar acendentemente\n",
        "    b - Ordenar decendentemente\n",
        "    Ingrese una opcion:\"\"\")\n",
        "\n",
        "op = input().lower()\n",
        "if op == \"a\":\n",
        "\talumnos.sort()\n",
        "elif op == \"b\":\n",
        "\talumnos.sort(reverse = True)\n",
        "else:\n",
        "\tprint(\"La opcion ingresada no es valida\")\n",
        "\n",
        "for alumno in alumnos:\n",
        "\tprint(alumno)"
      ],
      "metadata": {
        "id": "ETwTjbYMJxQP",
        "outputId": "023ae4e9-278c-419f-d5ac-6e88fdcd2ef4",
        "colab": {
          "base_uri": "https://localhost:8080/"
        }
      },
      "execution_count": null,
      "outputs": [
        {
          "output_type": "stream",
          "name": "stdout",
          "text": [
            "\n",
            "    a - Ordenar acendentemente\n",
            "    b - Ordenar decendentemente\n",
            "    Ingrese una opcion:\n",
            "a\n",
            "Abud Laspiur, Lourdes Mariel\n",
            "Alurralde, Solange Stefania\n",
            "Alvarado, Ludmila Del Milagro\n",
            "Amador, Luana Micaela\n",
            "Anaquin, Leonardo Ezequiel\n",
            "Angel, Camila Juliana\n",
            "Araoz Sanchez, Lautaro Nahuel\n",
            "Arenas, Lucas Gabriel\n",
            "Argañaraz, Agostina Abril\n",
            "Barrera, Matias Ezequiel\n",
            "Barrozo Vedia, Joaquin Nicolas\n",
            "Bettinelli, Valentino\n",
            "Bracamonte Martinez, Salvador\n",
            "Caseres, Maria Antonia\n",
            "Castillo, Paulina Milagros\n",
            "Colque Rivero, Ariana Zoe Del Valle\n",
            "Correa Segovia, Hugo Mariano\n",
            "D Elia, Alvaro Tadeo\n",
            "Diaz, Dulce Maitena\n",
            "Figueroa, Santino Josue\n",
            "Flores Cardozo, Agustina Tiara\n",
            "Flores, Victoria Agustina\n",
            "Gallo, Octavio Ismael\n",
            "Galvan, Lourdes Yamila\n",
            "Geronimo Soriano, Lizzie Amaya\n",
            "Giangreco, Vitto Tomasso\n",
            "Grancara, Martina Luna\n",
            "Guanca, Sara Elizabeth\n",
            "Guzman, Angélica Morena\n",
            "Guzman, Jazmin Esmeralda Belen\n",
            "Jaime, Anita Maria Belen\n",
            "Lacour Polo, Nazarena\n",
            "Lascano Guanca, Marcelo Fabricio\n",
            "Lezcano, Celia Morena\n",
            "Lopez, Victoria Constanza\n",
            "Mamani Garrido, Rosario Agostina\n",
            "Mamani Kynast, Nicolas Mauricio\n",
            "Marinaro, Martin Ezequiel\n",
            "Martinez, Tomas Andres\n",
            "Merluzzi Dagum, Ignacio\n",
            "Messina, Martina\n",
            "Portella Valdivia, Pedro Francisco\n",
            "Rasuk, Karim\n",
            "Retamal Cisneros, Zacarias Josue\n",
            "Rios, Lucia Magali\n",
            "Rosales, Francisco Gabriel\n",
            "Salem Barba, Mahia\n",
            "Sanchez Flores, Matías Agustín\n",
            "Scarano, Renato Marcelo\n",
            "Sierra, Lucas Mauricio\n",
            "Soto Camara, Agustin Ignacio\n",
            "Tapia, Martin Gabriel\n",
            "Villalba, Irina\n",
            "Vilte, Mia Antonella Alondra\n",
            "Virgillito, Katya Milena\n",
            "Voltolini, Emanuel Tobias\n",
            "Zalazar, Santino Stefano\n"
          ]
        }
      ]
    },
    {
      "cell_type": "code",
      "source": [
        "# Manera mia\n",
        "lista = {\n",
        "    1: \"Ordenar ascendentemente\",\n",
        "    2: \"Ordenar descendentemente\",}\n",
        "for opcion, mensaje in lista.items():\n",
        "  print(f\"{opcion}. {mensaje}\")\n",
        "opcion = input(\"Ingrese una opción: \")\n",
        "if opcion == \"1\":\n",
        "  alumnos.sort()\n",
        "  print(alumnos)\n",
        "elif opcion == \"2\":\n",
        "  alumnos.sort(reverse=True)\n",
        "  print(alumnos)\n",
        "else:\n",
        "  print(\"Opción no válida.\")"
      ],
      "metadata": {
        "id": "NKR3ciBKSjhr",
        "colab": {
          "base_uri": "https://localhost:8080/"
        },
        "outputId": "ea893150-9515-49b0-aa1a-7c0e42a50c45"
      },
      "execution_count": null,
      "outputs": [
        {
          "output_type": "stream",
          "name": "stdout",
          "text": [
            "1. Ordenar ascendentemente\n",
            "2. Ordenar descendentemente\n",
            "Ingrese una opción: 1\n",
            "['Abud Laspiur, Lourdes Mariel', 'Alurralde, Solange Stefania', 'Alvarado, Ludmila Del Milagro', 'Amador, Luana Micaela', 'Anaquin, Leonardo Ezequiel', 'Angel, Camila Juliana', 'Araoz Sanchez, Lautaro Nahuel', 'Arenas, Lucas Gabriel', 'Argañaraz, Agostina Abril', 'Barrera, Matias Ezequiel', 'Barrozo Vedia, Joaquin Nicolas', 'Bettinelli, Valentino', 'Bracamonte Martinez, Salvador', 'Caseres, Maria Antonia', 'Castillo, Paulina Milagros', 'Colque Rivero, Ariana Zoe Del Valle', 'Correa Segovia, Hugo Mariano', 'D Elia, Alvaro Tadeo', 'Diaz, Dulce Maitena', 'Figueroa, Santino Josue', 'Flores Cardozo, Agustina Tiara', 'Flores, Victoria Agustina', 'Gallo, Octavio Ismael', 'Galvan, Lourdes Yamila', 'Geronimo Soriano, Lizzie Amaya', 'Giangreco, Vitto Tomasso', 'Grancara, Martina Luna', 'Guanca, Sara Elizabeth', 'Guzman, Angélica Morena', 'Guzman, Jazmin Esmeralda Belen', 'Jaime, Anita Maria Belen', 'Jose', 'Jose', 'Lacour Polo, Nazarena', 'Lascano Guanca, Marcelo Fabricio', 'Lezcano, Celia Morena', 'Lopez, Victoria Constanza', 'Mamani Garrido, Rosario Agostina', 'Mamani Kynast, Nicolas Mauricio', 'Marinaro, Martin Ezequiel', 'Martinez', 'Martinez, Tomas Andres', 'Merluzzi Dagum, Ignacio', 'Messina, Martina', 'Portella Valdivia, Pedro Francisco', 'Rasuk, Karim', 'Retamal Cisneros, Zacarias Josue', 'Rios, Lucia Magali', 'Rosales, Francisco Gabriel', 'Salem Barba, Mahia', 'Sanchez Flores, Matías Agustín', 'Scarano, Renato Marcelo', 'Sierra, Lucas Mauricio', 'Soto Camara, Agustin Ignacio', 'Tapia, Martin Gabriel', 'Villalba, Irina', 'Vilte, Mia Antonella Alondra', 'Virgillito, Katya Milena', 'Voltolini, Emanuel Tobias', 'Zalazar, Santino Stefano']\n"
          ]
        }
      ]
    },
    {
      "cell_type": "markdown",
      "source": [
        "7. - Crea, a partir de la lista estudiantes, una nueva lista tupla_estudiantes que contenga los nombres en formato de tuplas, donde el primer elemento sea el apellido y el segundo el nombre.\n",
        "  - Muestra cada tupla de la nueva lista.\n"
      ],
      "metadata": {
        "id": "7wb4sRbOSkdM"
      }
    },
    {
      "cell_type": "code",
      "source": [
        "tupla_estudiantes = []\n",
        "for estudiante in alumnos:\n",
        "  apellido, nombre = estudiante.split(', ')\n",
        "  tupla_estudiantes.append((apellido, nombre))\n",
        "\n",
        "for tupla in tupla_estudiantes:\n",
        "  print(tupla)"
      ],
      "metadata": {
        "id": "f9v0mfoZS9_s",
        "colab": {
          "base_uri": "https://localhost:8080/"
        },
        "outputId": "372f6984-6647-4324-c9ab-33e3e77777ee"
      },
      "execution_count": null,
      "outputs": [
        {
          "output_type": "stream",
          "name": "stdout",
          "text": [
            "('Alurralde', 'Solange Stefania')\n",
            "('Alvarado', 'Ludmila Del Milagro')\n",
            "('Angel', 'Camila Juliana')\n",
            "('Arenas', 'Lucas Gabriel')\n",
            "('Caseres', 'Maria Antonia')\n",
            "('Castillo', 'Paulina Milagros')\n",
            "('Correa Segovia', 'Hugo Mariano')\n",
            "('D Elia', 'Alvaro Tadeo')\n",
            "('Flores', 'Victoria Agustina')\n",
            "('Geronimo Soriano', 'Lizzie Amaya')\n",
            "('Guzman', 'Angélica Morena')\n",
            "('Guzman', 'Jazmin Esmeralda Belen')\n",
            "('Jaime', 'Anita Maria Belen')\n",
            "('Lacour Polo', 'Nazarena')\n",
            "('Lascano Guanca', 'Marcelo Fabricio')\n",
            "('Lezcano', 'Celia Morena')\n",
            "('Mamani Kynast', 'Nicolas Mauricio')\n",
            "('Martinez', 'Tomas Andres')\n",
            "('Portella Valdivia', 'Pedro Francisco')\n",
            "('Retamal Cisneros', 'Zacarias Josue')\n",
            "('Rosales', 'Francisco Gabriel')\n",
            "('Salem Barba', 'Mahia')\n",
            "('Soto Camara', 'Agustin Ignacio')\n",
            "('Villalba', 'Irina')\n",
            "('Voltolini', 'Emanuel Tobias')\n",
            "('Zalazar', 'Santino Stefano')\n",
            "('Abud Laspiur', 'Lourdes Mariel')\n",
            "('Amador', 'Luana Micaela')\n",
            "('Anaquin', 'Leonardo Ezequiel')\n",
            "('Araoz Sanchez', 'Lautaro Nahuel')\n",
            "('Argañaraz', 'Agostina Abril')\n",
            "('Barrera', 'Matias Ezequiel')\n",
            "('Barrozo Vedia', 'Joaquin Nicolas')\n",
            "('Bettinelli', 'Valentino')\n",
            "('Bracamonte Martinez', 'Salvador')\n",
            "('Colque Rivero', 'Ariana Zoe Del Valle')\n",
            "('Diaz', 'Dulce Maitena')\n",
            "('Figueroa', 'Santino Josue')\n",
            "('Flores Cardozo', 'Agustina Tiara')\n",
            "('Gallo', 'Octavio Ismael')\n",
            "('Galvan', 'Lourdes Yamila')\n",
            "('Giangreco', 'Vitto Tomasso')\n",
            "('Grancara', 'Martina Luna')\n",
            "('Guanca', 'Sara Elizabeth')\n",
            "('Lopez', 'Victoria Constanza')\n",
            "('Mamani Garrido', 'Rosario Agostina')\n",
            "('Marinaro', 'Martin Ezequiel')\n",
            "('Merluzzi Dagum', 'Ignacio')\n",
            "('Messina', 'Martina')\n",
            "('Rasuk', 'Karim')\n",
            "('Rios', 'Lucia Magali')\n",
            "('Sanchez Flores', 'Matías Agustín')\n",
            "('Scarano', 'Renato Marcelo')\n",
            "('Sierra', 'Lucas Mauricio')\n",
            "('Tapia', 'Martin Gabriel')\n",
            "('Vilte', 'Mia Antonella Alondra')\n",
            "('Virgillito', 'Katya Milena')\n"
          ]
        }
      ]
    },
    {
      "cell_type": "markdown",
      "source": [
        "8. Crea un menú como el del ejercicio 6, pero ahora permite elegir si ordenar alfabéticamente por nombre o por apellido.\n",
        "> Para resolver este ejercicio, solicitar ayuda en clase o en el foro\n"
      ],
      "metadata": {
        "id": "PziNZOOBS_UQ"
      }
    },
    {
      "cell_type": "code",
      "source": [
        "def segunda_posicion(tupla):\n",
        "  return tupla[1]\n",
        "\n",
        "nombre = (\"Voltolini, Emanuel Tobias\")\n",
        "print(segunda_posicion(nombre))"
      ],
      "metadata": {
        "id": "v72o7Pix76H9",
        "outputId": "63fd985d-c57d-407b-ed4c-4668fb109102",
        "colab": {
          "base_uri": "https://localhost:8080/"
        }
      },
      "execution_count": null,
      "outputs": [
        {
          "output_type": "stream",
          "name": "stdout",
          "text": [
            "o\n"
          ]
        }
      ]
    },
    {
      "cell_type": "code",
      "source": [
        "print(\"\"\"\n",
        "  a - Ordenar ascendentemente por nombre\n",
        "  b - Ordenar ascendentemente por apellido\n",
        "  c - Ordenar descendentemente por nombre\n",
        "  d - Ordenar descendentemente por apellido\n",
        "  Ingrese una opcion:\"\"\")\n",
        "\n",
        "op = input().lower()\n",
        "if op == \"a\":\n",
        "  tupla_estudiantes.sort(key = segunda_posicion)\n",
        "elif op == \"a\":\n",
        "  tupla_estudiantes.sort()\n",
        "elif op == \"c\":\n",
        "  tupla_estudiantes.sort(key = segunda_posicion, reverse = True)\n",
        "elif op == \"d\":\n",
        "  tupla_estudiantes.sort(reverse = True)\n",
        "else:\n",
        " print(\"La opcion ingresada no es valida\")\n",
        "\n",
        "for alumno in alumnos:\n",
        " print(alumno)"
      ],
      "metadata": {
        "id": "X7Xu-KyaTWth",
        "outputId": "435bdea2-3c84-4fda-c81c-6ed746551923",
        "colab": {
          "base_uri": "https://localhost:8080/"
        }
      },
      "execution_count": null,
      "outputs": [
        {
          "output_type": "stream",
          "name": "stdout",
          "text": [
            "\n",
            "  a - Ordenar ascendentemente por nombre\n",
            "  b - Ordenar ascendentemente por apellido\n",
            "  c - Ordenar descendentemente por nombre\n",
            "  d - Ordenar descendentemente por apellido\n",
            "  Ingrese una opcion:\n",
            "a\n",
            "Alurralde, Solange Stefania\n",
            "Alvarado, Ludmila Del Milagro\n",
            "Angel, Camila Juliana\n",
            "Arenas, Lucas Gabriel\n",
            "Caseres, Maria Antonia\n",
            "Castillo, Paulina Milagros\n",
            "Correa Segovia, Hugo Mariano\n",
            "D Elia, Alvaro Tadeo\n",
            "Flores, Victoria Agustina\n",
            "Geronimo Soriano, Lizzie Amaya\n",
            "Guzman, Angélica Morena\n",
            "Guzman, Jazmin Esmeralda Belen\n",
            "Jaime, Anita Maria Belen\n",
            "Lacour Polo, Nazarena\n",
            "Lascano Guanca, Marcelo Fabricio\n",
            "Lezcano, Celia Morena\n",
            "Mamani Kynast, Nicolas Mauricio\n",
            "Martinez, Tomas Andres\n",
            "Portella Valdivia, Pedro Francisco\n",
            "Retamal Cisneros, Zacarias Josue\n",
            "Rosales, Francisco Gabriel\n",
            "Salem Barba, Mahia\n",
            "Soto Camara, Agustin Ignacio\n",
            "Villalba, Irina\n",
            "Voltolini, Emanuel Tobias\n",
            "Zalazar, Santino Stefano\n",
            "Abud Laspiur, Lourdes Mariel\n",
            "Amador, Luana Micaela\n",
            "Anaquin, Leonardo Ezequiel\n",
            "Araoz Sanchez, Lautaro Nahuel\n",
            "Argañaraz, Agostina Abril\n",
            "Barrera, Matias Ezequiel\n",
            "Barrozo Vedia, Joaquin Nicolas\n",
            "Bettinelli, Valentino\n",
            "Bracamonte Martinez, Salvador\n",
            "Colque Rivero, Ariana Zoe Del Valle\n",
            "Diaz, Dulce Maitena\n",
            "Figueroa, Santino Josue\n",
            "Flores Cardozo, Agustina Tiara\n",
            "Gallo, Octavio Ismael\n",
            "Galvan, Lourdes Yamila\n",
            "Giangreco, Vitto Tomasso\n",
            "Grancara, Martina Luna\n",
            "Guanca, Sara Elizabeth\n",
            "Lopez, Victoria Constanza\n",
            "Mamani Garrido, Rosario Agostina\n",
            "Marinaro, Martin Ezequiel\n",
            "Merluzzi Dagum, Ignacio\n",
            "Messina, Martina\n",
            "Rasuk, Karim\n",
            "Rios, Lucia Magali\n",
            "Sanchez Flores, Matías Agustín\n",
            "Scarano, Renato Marcelo\n",
            "Sierra, Lucas Mauricio\n",
            "Tapia, Martin Gabriel\n",
            "Vilte, Mia Antonella Alondra\n",
            "Virgillito, Katya Milena\n"
          ]
        }
      ]
    },
    {
      "cell_type": "markdown",
      "source": [
        "9. Agrega un dato en la posición siguiente a la de tu nombre en el nuevo formato de tupla. Para esto solicita al usuario su nombre y apellido, almacena estos datos en una tupla y agrega la misma a la lista \"tupla_estudiantes\""
      ],
      "metadata": {
        "id": "mtnmvoZ9TXii"
      }
    },
    {
      "cell_type": "code",
      "source": [
        "nombre = input(\"Ingrese un nombre: \").title()\n",
        "apellido = input(\"Ingrese un apellido: \").title()\n",
        "nombre_completo = (apellido, nombre)\n",
        "mi_nombre = (\"Voltolini\", \"Emanuel Tobias\")\n",
        "posicion = tupla_estudiantes.index(mi_nombre)\n",
        "tupla_estudiantes.insert(posicion + 1, nombre_completo)\n",
        "for tupla in tupla_estudiantes:\n",
        "  print(tupla)"
      ],
      "metadata": {
        "id": "nUTkAQtrJIv4",
        "outputId": "8451759c-f050-4785-e7cb-98fd944e997c",
        "colab": {
          "base_uri": "https://localhost:8080/"
        }
      },
      "execution_count": null,
      "outputs": [
        {
          "output_type": "stream",
          "name": "stdout",
          "text": [
            "Ingrese un nombre: Joaquin\n",
            "Ingrese un apellido: via\n",
            "('Alurralde', 'Solange Stefania')\n",
            "('Alvarado', 'Ludmila Del Milagro')\n",
            "('Angel', 'Camila Juliana')\n",
            "('Arenas', 'Lucas Gabriel')\n",
            "('Caseres', 'Maria Antonia')\n",
            "('Castillo', 'Paulina Milagros')\n",
            "('Correa Segovia', 'Hugo Mariano')\n",
            "('D Elia', 'Alvaro Tadeo')\n",
            "('Flores', 'Victoria Agustina')\n",
            "('Geronimo Soriano', 'Lizzie Amaya')\n",
            "('Guzman', 'Angélica Morena')\n",
            "('Guzman', 'Jazmin Esmeralda Belen')\n",
            "('Jaime', 'Anita Maria Belen')\n",
            "('Lacour Polo', 'Nazarena')\n",
            "('Lascano Guanca', 'Marcelo Fabricio')\n",
            "('Lezcano', 'Celia Morena')\n",
            "('Mamani Kynast', 'Nicolas Mauricio')\n",
            "('Martinez', 'Tomas Andres')\n",
            "('Portella Valdivia', 'Pedro Francisco')\n",
            "('Retamal Cisneros', 'Zacarias Josue')\n",
            "('Rosales', 'Francisco Gabriel')\n",
            "('Salem Barba', 'Mahia')\n",
            "('Soto Camara', 'Agustin Ignacio')\n",
            "('Villalba', 'Irina')\n",
            "('Voltolini', 'Emanuel Tobias')\n",
            "('Via', 'Joaquin')\n",
            "('Zalazar', 'Santino Stefano')\n",
            "('Abud Laspiur', 'Lourdes Mariel')\n",
            "('Amador', 'Luana Micaela')\n",
            "('Anaquin', 'Leonardo Ezequiel')\n",
            "('Araoz Sanchez', 'Lautaro Nahuel')\n",
            "('Argañaraz', 'Agostina Abril')\n",
            "('Barrera', 'Matias Ezequiel')\n",
            "('Barrozo Vedia', 'Joaquin Nicolas')\n",
            "('Bettinelli', 'Valentino')\n",
            "('Bracamonte Martinez', 'Salvador')\n",
            "('Colque Rivero', 'Ariana Zoe Del Valle')\n",
            "('Diaz', 'Dulce Maitena')\n",
            "('Figueroa', 'Santino Josue')\n",
            "('Flores Cardozo', 'Agustina Tiara')\n",
            "('Gallo', 'Octavio Ismael')\n",
            "('Galvan', 'Lourdes Yamila')\n",
            "('Giangreco', 'Vitto Tomasso')\n",
            "('Grancara', 'Martina Luna')\n",
            "('Guanca', 'Sara Elizabeth')\n",
            "('Lopez', 'Victoria Constanza')\n",
            "('Mamani Garrido', 'Rosario Agostina')\n",
            "('Marinaro', 'Martin Ezequiel')\n",
            "('Merluzzi Dagum', 'Ignacio')\n",
            "('Messina', 'Martina')\n",
            "('Rasuk', 'Karim')\n",
            "('Rios', 'Lucia Magali')\n",
            "('Sanchez Flores', 'Matías Agustín')\n",
            "('Scarano', 'Renato Marcelo')\n",
            "('Sierra', 'Lucas Mauricio')\n",
            "('Tapia', 'Martin Gabriel')\n",
            "('Vilte', 'Mia Antonella Alondra')\n",
            "('Virgillito', 'Katya Milena')\n"
          ]
        }
      ]
    },
    {
      "cell_type": "markdown",
      "source": [
        "10. - Pedir al usuario un nombre y mostrar todos los estudiantes que tengan ese nombre.\n",
        "  - Hacer lo mismo con un apellido.\n"
      ],
      "metadata": {
        "id": "dY4y7OVPT1FT"
      }
    },
    {
      "cell_type": "code",
      "source": [
        "nombre = input(\"Ingrese un nombre:\").title()\n",
        "for alumno in alumnos:\n",
        "  if nombre in alumno:\n",
        "    print(alumno)\n",
        "apellido = input(\"Ingrese un apellido:\").title()\n",
        "for alumno in alumnos:\n",
        "  if apellido in alumno:\n",
        "    print(alumno)"
      ],
      "metadata": {
        "id": "bVTVfjH4VMBM",
        "colab": {
          "base_uri": "https://localhost:8080/"
        },
        "outputId": "fd280252-92a2-48e5-8f67-326888f4f7ab"
      },
      "execution_count": null,
      "outputs": [
        {
          "output_type": "stream",
          "name": "stdout",
          "text": [
            "Ingrese un nombre:Emanuel\n",
            "Voltolini, Emanuel Tobias\n",
            "Ingrese un apellido:Soto\n",
            "Soto Camara, Agustin Ignacio\n"
          ]
        }
      ]
    },
    {
      "cell_type": "markdown",
      "source": [
        "11. Pedir un nombre al usuario y eliminar todos los registros donde se encuentre un estudiante con el nombre ingresado.\n"
      ],
      "metadata": {
        "id": "7zdJLrqXVM30"
      }
    },
    {
      "cell_type": "code",
      "source": [
        "nombre = input(\"Ingrese un nombre:\").title()\n",
        "for alumno in alumnos:\n",
        "  if nombre in alumno:\n",
        "    alumnos.remove(alumno)\n",
        "for alumno in alumnos:\n",
        "  print(alumno)"
      ],
      "metadata": {
        "id": "3_rnimG_VQr6",
        "colab": {
          "base_uri": "https://localhost:8080/"
        },
        "outputId": "28b2ad9c-d6cc-4d99-85c2-89a6715fe598"
      },
      "execution_count": null,
      "outputs": [
        {
          "output_type": "stream",
          "name": "stdout",
          "text": [
            "Ingrese un nombre:Alurralde\n",
            "Alvarado, Ludmila Del Milagro\n",
            "Angel, Camila Juliana\n",
            "Arenas, Lucas Gabriel\n",
            "Caseres, Maria Antonia\n",
            "Castillo, Paulina Milagros\n",
            "Correa Segovia, Hugo Mariano\n",
            "D Elia, Alvaro Tadeo\n",
            "Flores, Victoria Agustina\n",
            "Geronimo Soriano, Lizzie Amaya\n",
            "Guzman, Angélica Morena\n",
            "Guzman, Jazmin Esmeralda Belen\n",
            "Jaime, Anita Maria Belen\n",
            "Lacour Polo, Nazarena\n",
            "Lascano Guanca, Marcelo Fabricio\n",
            "Lezcano, Celia Morena\n",
            "Mamani Kynast, Nicolas Mauricio\n",
            "Martinez, Tomas Andres\n",
            "Portella Valdivia, Pedro Francisco\n",
            "Retamal Cisneros, Zacarias Josue\n",
            "Rosales, Francisco Gabriel\n",
            "Salem Barba, Mahia\n",
            "Soto Camara, Agustin Ignacio\n",
            "Villalba, Irina\n",
            "Voltolini, Emanuel Tobias\n",
            "Abud Laspiur, Lourdes Mariel\n",
            "Amador, Luana Micaela\n",
            "Anaquin, Leonardo Ezequiel\n",
            "Araoz Sanchez, Lautaro Nahuel\n",
            "Argañaraz, Agostina Abril\n",
            "Barrera, Matias Ezequiel\n",
            "Barrozo Vedia, Joaquin Nicolas\n",
            "Bettinelli, Valentino\n",
            "Bracamonte Martinez, Salvador\n",
            "Colque Rivero, Ariana Zoe Del Valle\n",
            "Diaz, Dulce Maitena\n",
            "Figueroa, Santino Josue\n",
            "Flores Cardozo, Agustina Tiara\n",
            "Gallo, Octavio Ismael\n",
            "Galvan, Lourdes Yamila\n",
            "Giangreco, Vitto Tomasso\n",
            "Grancara, Martina Luna\n",
            "Guanca, Sara Elizabeth\n",
            "Lopez, Victoria Constanza\n",
            "Mamani Garrido, Rosario Agostina\n",
            "Marinaro, Martin Ezequiel\n",
            "Merluzzi Dagum, Ignacio\n",
            "Messina, Martina\n",
            "Rasuk, Karim\n",
            "Rios, Lucia Magali\n",
            "Sanchez Flores, Matías Agustín\n",
            "Scarano, Renato Marcelo\n",
            "Sierra, Lucas Mauricio\n",
            "Tapia, Martin Gabriel\n",
            "Vilte, Mia Antonella Alondra\n",
            "Virgillito, Katya Milena\n"
          ]
        }
      ]
    },
    {
      "cell_type": "markdown",
      "source": [
        "12. Pedir dos apellidos al usuario, y reemplazar el primer apellido por el segundo en todos los registros donde se encuentre."
      ],
      "metadata": {
        "id": "DGU_hs0BVRfa"
      }
    },
    {
      "cell_type": "code",
      "source": [
        "apellido_1 = input(\"Ingrese el primer apellido:\").title()\n",
        "apellido_2 = input(\"Ingrese el segundo apellido:\").title()\n",
        "for alumno in alumnos:\n",
        "  if apellido_1 in alumno:\n",
        "    alumnos[alumnos.index(alumno)] = alumno.replace(apellido_1, apellido_2)\n",
        "for alumno in alumnos:\n",
        "  print(alumno)"
      ],
      "metadata": {
        "id": "ghxBxrzTV6aL",
        "outputId": "534685f4-0640-4e5c-9467-0c9c771072c2",
        "colab": {
          "base_uri": "https://localhost:8080/"
        }
      },
      "execution_count": null,
      "outputs": [
        {
          "output_type": "stream",
          "name": "stdout",
          "text": [
            "Ingrese el primer apellido:Voltolini\n",
            "Ingrese el segundo apellido:Soto\n",
            "Alurralde, Solange Stefania\n",
            "Alvarado, Ludmila Del Milagro\n",
            "Angel, Camila Juliana\n",
            "Arenas, Lucas Gabriel\n",
            "Caseres, Maria Antonia\n",
            "Castillo, Paulina Milagros\n",
            "Correa Segovia, Hugo Mariano\n",
            "D Elia, Alvaro Tadeo\n",
            "Flores, Victoria Agustina\n",
            "Geronimo Soriano, Lizzie Amaya\n",
            "Guzman, Angélica Morena\n",
            "Guzman, Jazmin Esmeralda Belen\n",
            "Jaime, Anita Maria Belen\n",
            "Lacour Polo, Nazarena\n",
            "Lascano Guanca, Marcelo Fabricio\n",
            "Lezcano, Celia Morena\n",
            "Mamani Kynast, Nicolas Mauricio\n",
            "Martinez, Tomas Andres\n",
            "Portella Valdivia, Pedro Francisco\n",
            "Retamal Cisneros, Zacarias Josue\n",
            "Rosales, Francisco Gabriel\n",
            "Salem Barba, Mahia\n",
            "Soto Camara, Agustin Ignacio\n",
            "Villalba, Irina\n",
            "Soto, Emanuel Tobias\n",
            "Zalazar, Santino Stefano\n",
            "Abud Laspiur, Lourdes Mariel\n",
            "Amador, Luana Micaela\n",
            "Anaquin, Leonardo Ezequiel\n",
            "Araoz Sanchez, Lautaro Nahuel\n",
            "Argañaraz, Agostina Abril\n",
            "Barrera, Matias Ezequiel\n",
            "Barrozo Vedia, Joaquin Nicolas\n",
            "Bettinelli, Valentino\n",
            "Bracamonte Martinez, Salvador\n",
            "Colque Rivero, Ariana Zoe Del Valle\n",
            "Diaz, Dulce Maitena\n",
            "Figueroa, Santino Josue\n",
            "Flores Cardozo, Agustina Tiara\n",
            "Gallo, Octavio Ismael\n",
            "Galvan, Lourdes Yamila\n",
            "Giangreco, Vitto Tomasso\n",
            "Grancara, Martina Luna\n",
            "Guanca, Sara Elizabeth\n",
            "Lopez, Victoria Constanza\n",
            "Mamani Garrido, Rosario Agostina\n",
            "Marinaro, Martin Ezequiel\n",
            "Merluzzi Dagum, Ignacio\n",
            "Messina, Martina\n",
            "Rasuk, Karim\n",
            "Rios, Lucia Magali\n",
            "Sanchez Flores, Matías Agustín\n",
            "Scarano, Renato Marcelo\n",
            "Sierra, Lucas Mauricio\n",
            "Tapia, Martin Gabriel\n",
            "Vilte, Mia Antonella Alondra\n",
            "Virgillito, Katya Milena\n"
          ]
        }
      ]
    }
  ]
}