{
  "nbformat": 4,
  "nbformat_minor": 0,
  "metadata": {
    "colab": {
      "provenance": [],
      "include_colab_link": true
    },
    "kernelspec": {
      "name": "python3",
      "display_name": "Python 3"
    },
    "language_info": {
      "name": "python"
    }
  },
  "cells": [
    {
      "cell_type": "markdown",
      "metadata": {
        "id": "view-in-github",
        "colab_type": "text"
      },
      "source": [
        "<a href=\"https://colab.research.google.com/github/liz096/liz096/blob/main/Lista_string_tupla_Pr%C3%A1ctica.ipynb\" target=\"_parent\"><img src=\"https://colab.research.google.com/assets/colab-badge.svg\" alt=\"Open In Colab\"/></a>"
      ]
    },
    {
      "cell_type": "code",
      "execution_count": 1,
      "metadata": {
        "id": "8VOD-zpMJovw"
      },
      "outputs": [],
      "source": [
        "# Lista de alumnos\n",
        "alumnos = [\n",
        "    \"Alurralde, Solange Stefania\",\n",
        "    \"Alvarado, Ludmila Del Milagro\",\n",
        "    \"Angel, Camila Juliana\",\n",
        "    \"Arenas, Lucas Gabriel\",\n",
        "    \"Caseres, Maria Antonia\",\n",
        "    \"Castillo, Paulina Milagros\",\n",
        "    \"Correa Segovia, Hugo Mariano\",\n",
        "    \"D Elia, Alvaro Tadeo\",\n",
        "    \"Flores, Victoria Agustina\",\n",
        "    \"Geronimo Soriano, Lizzie Amaya\",\n",
        "    \"GUZMAN, ANGÉLICA MORENA\",\n",
        "    \"Guzman, Jazmin Esmeralda Belen\",\n",
        "    \"Jaime, Anita Maria Belen\",\n",
        "    \"Lacour Polo, Nazarena\",\n",
        "    \"Lascano Guanca, Marcelo Fabricio\",\n",
        "    \"Lezcano, Celia Morena\",\n",
        "    \"Mamani Kynast, Nicolas Mauricio\",\n",
        "    \"Martinez, Tomas Andres\",\n",
        "    \"PORTELLA VALDIVIA, PEDRO FRANCISCO\",\n",
        "    \"Retamal Cisneros, Zacarias Josue\",\n",
        "    \"Rosales, Francisco Gabriel\",\n",
        "    \"Salem Barba, Mahia\",\n",
        "    \"Soto Camara, Agustin Ignacio\",\n",
        "    \"Villalba, Irina\",\n",
        "    \"Voltolini, Emanuel Tobias\",\n",
        "    \"Zalazar, Santino Stefano\",\n",
        "    \"ABUD LASPIUR, LOURDES MARIEL\",\n",
        "    \"Amador, Luana Micaela\",\n",
        "    \"Anaquin, Leonardo Ezequiel\",\n",
        "    \"Araoz Sanchez, Lautaro Nahuel\",\n",
        "    \"Argañaraz, Agostina Abril\",\n",
        "    \"Barrera, Matias Ezequiel\",\n",
        "    \"Barrozo Vedia, Joaquin Nicolas\",\n",
        "    \"Bettinelli, Valentino\",\n",
        "    \"Bracamonte Martinez, Salvador\",\n",
        "    \"Colque Rivero, Ariana Zoe Del Valle\",\n",
        "    \"Diaz, Dulce Maitena\",\n",
        "    \"FIGUEROA, SANTINO JOSUE\",\n",
        "    \"Flores Cardozo, Agustina Tiara\",\n",
        "    \"Gallo, Octavio Ismael\",\n",
        "    \"Galvan, Lourdes Yamila\",\n",
        "    \"Giangreco, Vitto Tomasso\",\n",
        "    \"Grancara, Martina Luna\",\n",
        "    \"Guanca, Sara Elizabeth\",\n",
        "    \"Lopez, Victoria Constanza\",\n",
        "    \"Mamani Garrido, Rosario Agostina\",\n",
        "    \"Marinaro, Martin Ezequiel\",\n",
        "    \"Merluzzi Dagum, Ignacio\",\n",
        "    \"Messina, Martina\",\n",
        "    \"RASUK, KARIM\",\n",
        "    \"Rios, Lucia Magali\",\n",
        "    \"Sanchez Flores, Matías Agustín\",\n",
        "    \"Scarano, Renato Marcelo\",\n",
        "    \"Sierra, Lucas Mauricio\",\n",
        "    \"Tapia, Martin Gabriel\",\n",
        "    \"Vilte, Mia Antonella Alondra\",\n",
        "    \"Virgillito, Katya Milena\"\n",
        "]"
      ]
    },
    {
      "cell_type": "markdown",
      "source": [
        "## Dada la lista estudiantes:\n",
        "> - Hacer una celda para resolver cada punto.\n",
        "- El TP resuelto será revisado en tu repositorio, no es necesario que lo envíes, pero sí que lo pushees correctamente.\n",
        "- En la nota inicial se contempla:\n",
        "  - La creación del fork.\n",
        "  - El pusheo de los cambios realizados.\n",
        "  - La resolución de los ejercicios propuestos.\n"
      ],
      "metadata": {
        "id": "rd6Ug6v3J4uN"
      }
    },
    {
      "cell_type": "markdown",
      "source": [
        "1. Reemplaza todos los valores por los que obtengas del método title(). De esta manera tu lista quedara con los datos más homogéneos."
      ],
      "metadata": {
        "id": "wRLng-uURyJ3"
      }
    },
    {
      "cell_type": "code",
      "source": [
        "for i in range(len(alumnos)):\n",
        "    alumnos[i] = alumnos[i].title()\n",
        "\n",
        "for alumno in alumnos:\n",
        "    print(alumno)"
      ],
      "metadata": {
        "id": "8_-pTJ7UmqPY",
        "outputId": "39a570f3-2127-4f2d-fe45-97e82f71976b",
        "colab": {
          "base_uri": "https://localhost:8080/"
        }
      },
      "execution_count": 2,
      "outputs": [
        {
          "output_type": "stream",
          "name": "stdout",
          "text": [
            "Alurralde, Solange Stefania\n",
            "Alvarado, Ludmila Del Milagro\n",
            "Angel, Camila Juliana\n",
            "Arenas, Lucas Gabriel\n",
            "Caseres, Maria Antonia\n",
            "Castillo, Paulina Milagros\n",
            "Correa Segovia, Hugo Mariano\n",
            "D Elia, Alvaro Tadeo\n",
            "Flores, Victoria Agustina\n",
            "Geronimo Soriano, Lizzie Amaya\n",
            "Guzman, Angélica Morena\n",
            "Guzman, Jazmin Esmeralda Belen\n",
            "Jaime, Anita Maria Belen\n",
            "Lacour Polo, Nazarena\n",
            "Lascano Guanca, Marcelo Fabricio\n",
            "Lezcano, Celia Morena\n",
            "Mamani Kynast, Nicolas Mauricio\n",
            "Martinez, Tomas Andres\n",
            "Portella Valdivia, Pedro Francisco\n",
            "Retamal Cisneros, Zacarias Josue\n",
            "Rosales, Francisco Gabriel\n",
            "Salem Barba, Mahia\n",
            "Soto Camara, Agustin Ignacio\n",
            "Villalba, Irina\n",
            "Voltolini, Emanuel Tobias\n",
            "Zalazar, Santino Stefano\n",
            "Abud Laspiur, Lourdes Mariel\n",
            "Amador, Luana Micaela\n",
            "Anaquin, Leonardo Ezequiel\n",
            "Araoz Sanchez, Lautaro Nahuel\n",
            "Argañaraz, Agostina Abril\n",
            "Barrera, Matias Ezequiel\n",
            "Barrozo Vedia, Joaquin Nicolas\n",
            "Bettinelli, Valentino\n",
            "Bracamonte Martinez, Salvador\n",
            "Colque Rivero, Ariana Zoe Del Valle\n",
            "Diaz, Dulce Maitena\n",
            "Figueroa, Santino Josue\n",
            "Flores Cardozo, Agustina Tiara\n",
            "Gallo, Octavio Ismael\n",
            "Galvan, Lourdes Yamila\n",
            "Giangreco, Vitto Tomasso\n",
            "Grancara, Martina Luna\n",
            "Guanca, Sara Elizabeth\n",
            "Lopez, Victoria Constanza\n",
            "Mamani Garrido, Rosario Agostina\n",
            "Marinaro, Martin Ezequiel\n",
            "Merluzzi Dagum, Ignacio\n",
            "Messina, Martina\n",
            "Rasuk, Karim\n",
            "Rios, Lucia Magali\n",
            "Sanchez Flores, Matías Agustín\n",
            "Scarano, Renato Marcelo\n",
            "Sierra, Lucas Mauricio\n",
            "Tapia, Martin Gabriel\n",
            "Vilte, Mia Antonella Alondra\n",
            "Virgillito, Katya Milena\n"
          ]
        }
      ]
    },
    {
      "cell_type": "markdown",
      "source": [
        "2. Desarrolla un script que permita ingresar un nombre y muestre cuantas veces aparece este en la lista\n"
      ],
      "metadata": {
        "id": "dYEGkYZyLy9I"
      }
    },
    {
      "cell_type": "code",
      "source": [
        "nombre = input(\"Ingrese un nombre: \").title()\n",
        "nombres = []\n",
        "for alumno in alumnos:\n",
        "  alumno_nombres = alumno.replace(',','').split()\n",
        "  nombres.extend(alumno_nombres)\n",
        "print(f\"El nombre {nombre} parece {nombres.count(nombre)} veces en la lista\")"
      ],
      "metadata": {
        "id": "eqEE7hoCx3CG",
        "outputId": "223b6da5-9f76-4d38-db0a-49152ec1eb6e",
        "colab": {
          "base_uri": "https://localhost:8080/"
        }
      },
      "execution_count": null,
      "outputs": [
        {
          "output_type": "stream",
          "name": "stdout",
          "text": [
            "Ingrese un nombre: maria\n",
            "El nombre Maria parece 2 veces en la lista\n"
          ]
        }
      ]
    },
    {
      "cell_type": "markdown",
      "source": [
        "3. Desarrolla un script en python que permita ingresar un nombre y mostrar en que posición de la lista se encuentra el mismo. Realiza las combinaciones necesarias para que no se genere un error si es que el nombre no existe."
      ],
      "metadata": {
        "id": "UW2dlBsGMAte"
      }
    },
    {
      "cell_type": "code",
      "source": [
        "nombre= input(\"Ingrese un nombre: \").title()\n",
        "if nombre in alumnos:\n",
        "  posicion = alumnos.index(nombre)\n",
        "  print(f\"El alumno está en la posicion {posicion}\")\n",
        "else:\n",
        "  print(f\"EL alumno no está en la lista\")"
      ],
      "metadata": {
        "id": "WG4Eae3PnAog",
        "outputId": "654762fa-1064-40ca-c498-87e64384f990",
        "colab": {
          "base_uri": "https://localhost:8080/"
        }
      },
      "execution_count": null,
      "outputs": [
        {
          "output_type": "stream",
          "name": "stdout",
          "text": [
            "Ingrese un nombre: Figueroa, Santino Josue\n",
            "El alumno está en la posicion 37\n"
          ]
        }
      ]
    },
    {
      "cell_type": "markdown",
      "source": [
        "4. Agrega un nombre al final de la lista, otro al principio y otro en la posición anterior a la de tu nombre en la lista. Tene en cuenta el formato usado para ingresar los datos: \"apellidos, nombres\""
      ],
      "metadata": {
        "id": "kZeEHUYVNwGV"
      }
    },
    {
      "cell_type": "code",
      "source": [
        "# Inserta al final\n",
        "nombres = input(\"Ingrese los nombres del estudiante: \").title()\n",
        "apellidos = input(\"Ingrese los apellidos del estudiante: \").title()\n",
        "nombre_completo = apellidos+\", \"+nombres\n",
        "alumnos.append(nombre_completo)"
      ],
      "metadata": {
        "id": "A9u8sTsKnDEx",
        "outputId": "322a9c03-5d8e-437e-8d5b-fc8c367977c9",
        "colab": {
          "base_uri": "https://localhost:8080/"
        }
      },
      "execution_count": null,
      "outputs": [
        {
          "name": "stdout",
          "output_type": "stream",
          "text": [
            "Ingrese los nombres del estudiante: jose\n",
            "Ingrese los apellidos del estudiante: fulanito\n"
          ]
        }
      ]
    },
    {
      "cell_type": "code",
      "source": [
        "# Inserta al principio\n",
        "nombres = input(\"Ingrese los nombres del estudiante: \").title()\n",
        "apellidos = input(\"Ingrese los apellidos del estudiante: \").title()\n",
        "nombre_completo = apellidos+\", \"+nombres\n",
        "alumnos.insert(0,nombre_completo)"
      ],
      "metadata": {
        "id": "41DvF6KD0YYw"
      },
      "execution_count": null,
      "outputs": []
    },
    {
      "cell_type": "code",
      "source": [
        "# Antes de mi nombre\n",
        "\n",
        "nombres = input(\"Ingrese los nombres del estudiante: \").title()\n",
        "apellidos = input(\"Ingrese los apellidos del estudiante: \").title()\n",
        "nombre_completo = apellidos+\", \"+nombres\n",
        "\n",
        "\n",
        "nombre= \"Retamal Cisneros, Zacarias Josue\"\n",
        "if nombre in alumnos:\n",
        "  posicion = alumnos.index(nombre)\n",
        "  alumnos.insert(posicion,nombre_completo)\n",
        "else:\n",
        "  print(f\"EL alumno no está en la lista\")"
      ],
      "metadata": {
        "id": "Vg-tNmMV1IQl",
        "outputId": "93dcdf54-3677-41ab-f252-f0cc6d442635",
        "colab": {
          "base_uri": "https://localhost:8080/"
        }
      },
      "execution_count": null,
      "outputs": [
        {
          "name": "stdout",
          "output_type": "stream",
          "text": [
            "Ingrese los nombres del estudiante: Sebastian\n",
            "Ingrese los apellidos del estudiante: Mendez\n"
          ]
        }
      ]
    },
    {
      "cell_type": "code",
      "source": [
        "for alumno in alumnos:\n",
        "  print(alumno)"
      ],
      "metadata": {
        "id": "U2pF9krtCCzj",
        "outputId": "a5dc8755-e2a6-4930-f630-5c1debaa2e0e",
        "colab": {
          "base_uri": "https://localhost:8080/"
        }
      },
      "execution_count": null,
      "outputs": [
        {
          "output_type": "stream",
          "name": "stdout",
          "text": [
            "Alurralde, Solange Stefania\n",
            "Alvarado, Ludmila Del Milagro\n",
            "Angel, Camila Juliana\n",
            "Arenas, Lucas Gabriel\n",
            "Caseres, Maria Antonia\n",
            "Castillo, Paulina Milagros\n",
            "Correa Segovia, Hugo Mariano\n",
            "D Elia, Alvaro Tadeo\n",
            "Flores, Victoria Agustina\n",
            "Geronimo Soriano, Lizzie Amaya\n",
            "Guzman, Angélica Morena\n",
            "Guzman, Jazmin Esmeralda Belen\n",
            "Jaime, Anita Maria Belen\n",
            "Lacour Polo, Nazarena\n",
            "Lascano Guanca, Marcelo Fabricio\n",
            "Lezcano, Celia Morena\n",
            "Mamani Kynast, Nicolas Mauricio\n",
            "Martinez, Tomas Andres\n",
            "Portella Valdivia, Pedro Francisco\n",
            "Mendez, Sebastian\n",
            "Retamal Cisneros, Zacarias Josue\n",
            "Rosales, Francisco Gabriel\n",
            "Salem Barba, Mahia\n",
            "Soto Camara, Agustin Ignacio\n",
            "Villalba, Irina\n",
            "Voltolini, Emanuel Tobias\n",
            "Zalazar, Santino Stefano\n",
            "Abud Laspiur, Lourdes Mariel\n",
            "Amador, Luana Micaela\n",
            "Anaquin, Leonardo Ezequiel\n",
            "Araoz Sanchez, Lautaro Nahuel\n",
            "Argañaraz, Agostina Abril\n",
            "Barrera, Matias Ezequiel\n",
            "Barrozo Vedia, Joaquin Nicolas\n",
            "Bettinelli, Valentino\n",
            "Bracamonte Martinez, Salvador\n",
            "Colque Rivero, Ariana Zoe Del Valle\n",
            "Diaz, Dulce Maitena\n",
            "Figueroa, Santino Josue\n",
            "Flores Cardozo, Agustina Tiara\n",
            "Gallo, Octavio Ismael\n",
            "Galvan, Lourdes Yamila\n",
            "Giangreco, Vitto Tomasso\n",
            "Grancara, Martina Luna\n",
            "Guanca, Sara Elizabeth\n",
            "Lopez, Victoria Constanza\n",
            "Mamani Garrido, Rosario Agostina\n",
            "Marinaro, Martin Ezequiel\n",
            "Merluzzi Dagum, Ignacio\n",
            "Messina, Martina\n",
            "Rasuk, Karim\n",
            "Rios, Lucia Magali\n",
            "Sanchez Flores, Matías Agustín\n",
            "Scarano, Renato Marcelo\n",
            "Sierra, Lucas Mauricio\n",
            "Tapia, Martin Gabriel\n",
            "Vilte, Mia Antonella Alondra\n",
            "Virgillito, Katya Milena\n"
          ]
        }
      ]
    },
    {
      "cell_type": "markdown",
      "source": [
        "5. Mostrá cada elemento de la lista mientras la vacias usando el metodo pop(). Para lograr esto usá la estructura while.\n",
        "\n",
        "Tene en cuenta que:\n",
        "\n",
        "\n",
        ">```python\n",
        "bool([]) = False\n",
        "```\n",
        "\n"
      ],
      "metadata": {
        "id": "b_we1Oz4OUBN"
      }
    },
    {
      "cell_type": "code",
      "source": [
        "while alumnos:\n",
        "  un_alumno = alumnos.pop()\n",
        "  print(un_alumno)"
      ],
      "metadata": {
        "id": "bjn9DhewPhWF",
        "outputId": "ec235294-99ab-493e-fcaa-b9af5749597e",
        "colab": {
          "base_uri": "https://localhost:8080/"
        }
      },
      "execution_count": null,
      "outputs": [
        {
          "output_type": "stream",
          "name": "stdout",
          "text": [
            "Virgillito, Katya Milena\n",
            "Vilte, Mia Antonella Alondra\n",
            "Tapia, Martin Gabriel\n",
            "Sierra, Lucas Mauricio\n",
            "Scarano, Renato Marcelo\n",
            "Sanchez Flores, Matías Agustín\n",
            "Rios, Lucia Magali\n",
            "Rasuk, Karim\n",
            "Messina, Martina\n",
            "Merluzzi Dagum, Ignacio\n",
            "Marinaro, Martin Ezequiel\n",
            "Mamani Garrido, Rosario Agostina\n",
            "Lopez, Victoria Constanza\n",
            "Guanca, Sara Elizabeth\n",
            "Grancara, Martina Luna\n",
            "Giangreco, Vitto Tomasso\n",
            "Galvan, Lourdes Yamila\n",
            "Gallo, Octavio Ismael\n",
            "Flores Cardozo, Agustina Tiara\n",
            "Figueroa, Santino Josue\n",
            "Diaz, Dulce Maitena\n",
            "Colque Rivero, Ariana Zoe Del Valle\n",
            "Bracamonte Martinez, Salvador\n",
            "Bettinelli, Valentino\n",
            "Barrozo Vedia, Joaquin Nicolas\n",
            "Barrera, Matias Ezequiel\n",
            "Argañaraz, Agostina Abril\n",
            "Araoz Sanchez, Lautaro Nahuel\n",
            "Anaquin, Leonardo Ezequiel\n",
            "Amador, Luana Micaela\n",
            "Abud Laspiur, Lourdes Mariel\n",
            "Zalazar, Santino Stefano\n",
            "Voltolini, Emanuel Tobias\n",
            "Villalba, Irina\n",
            "Soto Camara, Agustin Ignacio\n",
            "Salem Barba, Mahia\n",
            "Rosales, Francisco Gabriel\n",
            "Retamal Cisneros, Zacarias Josue\n",
            "Mendez, Sebastian\n",
            "Portella Valdivia, Pedro Francisco\n",
            "Martinez, Tomas Andres\n",
            "Mamani Kynast, Nicolas Mauricio\n",
            "Lezcano, Celia Morena\n",
            "Lascano Guanca, Marcelo Fabricio\n",
            "Lacour Polo, Nazarena\n",
            "Jaime, Anita Maria Belen\n",
            "Guzman, Jazmin Esmeralda Belen\n",
            "Guzman, Angélica Morena\n",
            "Geronimo Soriano, Lizzie Amaya\n",
            "Flores, Victoria Agustina\n",
            "D Elia, Alvaro Tadeo\n",
            "Correa Segovia, Hugo Mariano\n",
            "Castillo, Paulina Milagros\n",
            "Caseres, Maria Antonia\n",
            "Arenas, Lucas Gabriel\n",
            "Angel, Camila Juliana\n",
            "Alvarado, Ludmila Del Milagro\n",
            "Alurralde, Solange Stefania\n"
          ]
        }
      ]
    },
    {
      "cell_type": "code",
      "source": [
        "print(alumnos)"
      ],
      "metadata": {
        "id": "clQ1speG2yOB",
        "outputId": "f1d3ba69-a026-4294-921c-cfdca49bbd1f",
        "colab": {
          "base_uri": "https://localhost:8080/"
        }
      },
      "execution_count": null,
      "outputs": [
        {
          "output_type": "stream",
          "name": "stdout",
          "text": [
            "[]\n"
          ]
        }
      ]
    },
    {
      "cell_type": "markdown",
      "source": [
        "6. Crea un menú para ordenar la lista de manera ascendente o descendente. Realiza esta acción y muestra el resultado según la opción elegida por el usuario."
      ],
      "metadata": {
        "id": "xY4BuqGdQBF1"
      }
    },
    {
      "cell_type": "code",
      "source": [
        "print(\"\"\"\n",
        "      a - Ordenar de manera asendente\n",
        "      d - Odenar la lista de manera descendente\n",
        "      Ingrese una opcion:\"\"\")\n",
        "op = input().lower() #A --> a\n",
        "if op == 'a':\n",
        "  alumnos.sort()\n",
        "elif op == 'd':\n",
        "  alumnos.sort(reverse= True)\n",
        "else:\n",
        "  print(\"La opcion ingresada no es correcta\")\n",
        "\n",
        "for alumno in alumnos:\n",
        "  print(alumno)"
      ],
      "metadata": {
        "id": "NKR3ciBKSjhr",
        "outputId": "af5281c0-53f4-4113-cb25-4d95db1f4b04",
        "colab": {
          "base_uri": "https://localhost:8080/"
        }
      },
      "execution_count": null,
      "outputs": [
        {
          "output_type": "stream",
          "name": "stdout",
          "text": [
            " \n",
            "      a - Ordenar de manera asendente\n",
            "      d - Odenar la lista de manera descendente\n",
            "      Ingrese una opcion:\n",
            "d\n",
            "Zalazar, Santino Stefano\n",
            "Voltolini, Emanuel Tobias\n",
            "Virgillito, Katya Milena\n",
            "Vilte, Mia Antonella Alondra\n",
            "Villalba, Irina\n",
            "Tapia, Martin Gabriel\n",
            "Soto Camara, Agustin Ignacio\n",
            "Sierra, Lucas Mauricio\n",
            "Scarano, Renato Marcelo\n",
            "Sanchez Flores, Matías Agustín\n",
            "Salem Barba, Mahia\n",
            "Rosales, Francisco Gabriel\n",
            "Rios, Lucia Magali\n",
            "Retamal Cisneros, Zacarias Josue\n",
            "Rasuk, Karim\n",
            "Portella Valdivia, Pedro Francisco\n",
            "Messina, Martina\n",
            "Merluzzi Dagum, Ignacio\n",
            "Martinez, Tomas Andres\n",
            "Marinaro, Martin Ezequiel\n",
            "Mamani Kynast, Nicolas Mauricio\n",
            "Mamani Garrido, Rosario Agostina\n",
            "Lopez, Victoria Constanza\n",
            "Lezcano, Celia Morena\n",
            "Lascano Guanca, Marcelo Fabricio\n",
            "Lacour Polo, Nazarena\n",
            "Jaime, Anita Maria Belen\n",
            "Guzman, Jazmin Esmeralda Belen\n",
            "Guzman, Angélica Morena\n",
            "Guanca, Sara Elizabeth\n",
            "Grancara, Martina Luna\n",
            "Giangreco, Vitto Tomasso\n",
            "Geronimo Soriano, Lizzie Amaya\n",
            "Galvan, Lourdes Yamila\n",
            "Gallo, Octavio Ismael\n",
            "Flores, Victoria Agustina\n",
            "Flores Cardozo, Agustina Tiara\n",
            "Figueroa, Santino Josue\n",
            "Diaz, Dulce Maitena\n",
            "D Elia, Alvaro Tadeo\n",
            "Correa Segovia, Hugo Mariano\n",
            "Colque Rivero, Ariana Zoe Del Valle\n",
            "Castillo, Paulina Milagros\n",
            "Caseres, Maria Antonia\n",
            "Bracamonte Martinez, Salvador\n",
            "Bettinelli, Valentino\n",
            "Barrozo Vedia, Joaquin Nicolas\n",
            "Barrera, Matias Ezequiel\n",
            "Argañaraz, Agostina Abril\n",
            "Arenas, Lucas Gabriel\n",
            "Araoz Sanchez, Lautaro Nahuel\n",
            "Angel, Camila Juliana\n",
            "Anaquin, Leonardo Ezequiel\n",
            "Amador, Luana Micaela\n",
            "Alvarado, Ludmila Del Milagro\n",
            "Alurralde, Solange Stefania\n",
            "Abud Laspiur, Lourdes Mariel\n"
          ]
        }
      ]
    },
    {
      "cell_type": "markdown",
      "source": [
        "7. - Crea, a partir de la lista estudiantes, una nueva lista tupla_estudiantes que contenga los nombres en formato de tuplas, donde el primer elemento sea el apellido y el segundo el nombre.\n",
        "  - Muestra cada tupla de la nueva lista.\n"
      ],
      "metadata": {
        "id": "7wb4sRbOSkdM"
      }
    },
    {
      "cell_type": "code",
      "source": [
        "tupla_estudiantes = []\n",
        "for alumno in alumnos:\n",
        "  apellido,nombre = alumno.split(',')\n",
        "  nombre = nombre.strip()\n",
        "  tupla_estudiantes.append((apellido,nombre))\n",
        "\n",
        "for alumno in tupla_estudiantes:\n",
        "  print(alumno)"
      ],
      "metadata": {
        "id": "f9v0mfoZS9_s",
        "outputId": "207b4b26-137d-4d51-e93b-b30e07a359bb",
        "colab": {
          "base_uri": "https://localhost:8080/"
        }
      },
      "execution_count": null,
      "outputs": [
        {
          "output_type": "stream",
          "name": "stdout",
          "text": [
            "('Alurralde', 'Solange Stefania')\n",
            "('Alvarado', 'Ludmila Del Milagro')\n",
            "('Angel', 'Camila Juliana')\n",
            "('Arenas', 'Lucas Gabriel')\n",
            "('Caseres', 'Maria Antonia')\n",
            "('Castillo', 'Paulina Milagros')\n",
            "('Correa Segovia', 'Hugo Mariano')\n",
            "('D Elia', 'Alvaro Tadeo')\n",
            "('Flores', 'Victoria Agustina')\n",
            "('Geronimo Soriano', 'Lizzie Amaya')\n",
            "('Guzman', 'Angélica Morena')\n",
            "('Guzman', 'Jazmin Esmeralda Belen')\n",
            "('Jaime', 'Anita Maria Belen')\n",
            "('Lacour Polo', 'Nazarena')\n",
            "('Lascano Guanca', 'Marcelo Fabricio')\n",
            "('Lezcano', 'Celia Morena')\n",
            "('Mamani Kynast', 'Nicolas Mauricio')\n",
            "('Martinez', 'Tomas Andres')\n",
            "('Portella Valdivia', 'Pedro Francisco')\n",
            "('Retamal Cisneros', 'Zacarias Josue')\n",
            "('Rosales', 'Francisco Gabriel')\n",
            "('Salem Barba', 'Mahia')\n",
            "('Soto Camara', 'Agustin Ignacio')\n",
            "('Villalba', 'Irina')\n",
            "('Voltolini', 'Emanuel Tobias')\n",
            "('Zalazar', 'Santino Stefano')\n",
            "('Abud Laspiur', 'Lourdes Mariel')\n",
            "('Amador', 'Luana Micaela')\n",
            "('Anaquin', 'Leonardo Ezequiel')\n",
            "('Araoz Sanchez', 'Lautaro Nahuel')\n",
            "('Argañaraz', 'Agostina Abril')\n",
            "('Barrera', 'Matias Ezequiel')\n",
            "('Barrozo Vedia', 'Joaquin Nicolas')\n",
            "('Bettinelli', 'Valentino')\n",
            "('Bracamonte Martinez', 'Salvador')\n",
            "('Colque Rivero', 'Ariana Zoe Del Valle')\n",
            "('Diaz', 'Dulce Maitena')\n",
            "('Figueroa', 'Santino Josue')\n",
            "('Flores Cardozo', 'Agustina Tiara')\n",
            "('Gallo', 'Octavio Ismael')\n",
            "('Galvan', 'Lourdes Yamila')\n",
            "('Giangreco', 'Vitto Tomasso')\n",
            "('Grancara', 'Martina Luna')\n",
            "('Guanca', 'Sara Elizabeth')\n",
            "('Lopez', 'Victoria Constanza')\n",
            "('Mamani Garrido', 'Rosario Agostina')\n",
            "('Marinaro', 'Martin Ezequiel')\n",
            "('Merluzzi Dagum', 'Ignacio')\n",
            "('Messina', 'Martina')\n",
            "('Rasuk', 'Karim')\n",
            "('Rios', 'Lucia Magali')\n",
            "('Sanchez Flores', 'Matías Agustín')\n",
            "('Scarano', 'Renato Marcelo')\n",
            "('Sierra', 'Lucas Mauricio')\n",
            "('Tapia', 'Martin Gabriel')\n",
            "('Vilte', 'Mia Antonella Alondra')\n",
            "('Virgillito', 'Katya Milena')\n"
          ]
        }
      ]
    },
    {
      "cell_type": "markdown",
      "source": [
        "8. Crea un menú como el del ejercicio 6, pero ahora permite elegir si ordenar alfabéticamente por nombre o por apellido.\n",
        "> Para resolver este ejercicio, solicitar ayuda en clase o en el foro\n"
      ],
      "metadata": {
        "id": "PziNZOOBS_UQ"
      }
    },
    {
      "source": [
        "print(\"\"\" menu\n",
        "\n",
        "[aa] Ascendente según apellidos\n",
        "[da] Descendente según apellidos\n",
        "[an] Ascendente según nombres\n",
        "[dn] Descendente según nombres \"\"\")\n",
        "opcion = input(\"Ingrese una opcion: \")\n",
        "\n",
        "\n",
        "tupla_estudiantes = []\n",
        "if opcion.lower() == 'aa':\n",
        "  tupla_estudiantes.sort()\n",
        "if opcion.lower() == 'da':\n",
        " tupla_estudiantes.sort(reverse = True)\n",
        "if opcion.lower() == 'an':\n",
        "  tupla_estudiantes.sort(key= segundo_elemento)\n",
        "\n",
        "\n",
        "for estudiante in tupla_estudiantes:\n",
        "  print(estudiante)"
      ],
      "cell_type": "code",
      "metadata": {
        "id": "IdcCoPjy7hqs",
        "outputId": "a999f352-953b-4c0e-ad5b-635956169177",
        "colab": {
          "base_uri": "https://localhost:8080/"
        }
      },
      "execution_count": null,
      "outputs": [
        {
          "name": "stdout",
          "output_type": "stream",
          "text": [
            " menu\n",
            "\n",
            "[aa] Ascendente según apellidos\n",
            "[da] Descendente según apellidos\n",
            "[an] Ascendente según nombres\n",
            "[dn] Descendente según nombres \n",
            "Ingrese una opcion: da\n"
          ]
        }
      ]
    },
    {
      "cell_type": "markdown",
      "source": [
        "9. Agrega un dato en la posición siguiente a la de tu nombre en el nuevo formato de tupla. Para esto solicita al usuario su nombre y apellido, almacena estos datos en una tupla y agrega la misma a la lista \"tupla_estudiantes\""
      ],
      "metadata": {
        "id": "mtnmvoZ9TXii"
      }
    },
    {
      "cell_type": "code",
      "source": [
        "nombre_usuario = input(\"Por favor, ingresa tu nombre: \")\n",
        "apellido_usuario = input(\"Por favor, ingresa tu apellido: \")\n",
        "\n",
        "nombre_completo = f\"{apellido_usuario}, {nombre_usuario.title()}\"\n",
        "\n",
        "posicion = None\n",
        "for i, alumno in enumerate(alumnos):\n",
        "    apellido, nombre = alumno.split(\", \")\n",
        "    if apellido.title() == apellido_usuario.title() and nombre.split()[0].title() == nombre_usuario.title():\n",
        "        posicion = i\n",
        "        break\n",
        "tupla_estudiantes = list(map(lambda x: (x.split(\", \")[1].title(), x.split(\", \")[0].title()), alumnos))\n",
        "\n",
        "if posicion is not None:\n",
        "    tupla_estudiantes.insert(posicion + 1, (nombre_usuario.title(), apellido_usuario.title()))\n",
        "\n",
        "for estudiante in tupla_estudiantes:\n",
        "    print(estudiante)"
      ],
      "metadata": {
        "id": "RSXz_XcvT0Nc",
        "colab": {
          "base_uri": "https://localhost:8080/"
        },
        "outputId": "eea54421-ca64-44ee-bd69-e2ee701a284c"
      },
      "execution_count": null,
      "outputs": [
        {
          "output_type": "stream",
          "name": "stdout",
          "text": [
            "Por favor, ingresa tu nombre: Angel\n",
            "Por favor, ingresa tu apellido: Alto \n",
            "('Solange Stefania', 'Alurralde')\n",
            "('Ludmila Del Milagro', 'Alvarado')\n",
            "('Camila Juliana', 'Angel')\n",
            "('Lucas Gabriel', 'Arenas')\n",
            "('Maria Antonia', 'Caseres')\n",
            "('Paulina Milagros', 'Castillo')\n",
            "('Hugo Mariano', 'Correa Segovia')\n",
            "('Alvaro Tadeo', 'D Elia')\n",
            "('Victoria Agustina', 'Flores')\n",
            "('Lizzie Amaya', 'Geronimo Soriano')\n",
            "('Angélica Morena', 'Guzman')\n",
            "('Jazmin Esmeralda Belen', 'Guzman')\n",
            "('Anita Maria Belen', 'Jaime')\n",
            "('Nazarena', 'Lacour Polo')\n",
            "('Marcelo Fabricio', 'Lascano Guanca')\n",
            "('Celia Morena', 'Lezcano')\n",
            "('Nicolas Mauricio', 'Mamani Kynast')\n",
            "('Tomas Andres', 'Martinez')\n",
            "('Pedro Francisco', 'Portella Valdivia')\n",
            "('Zacarias Josue', 'Retamal Cisneros')\n",
            "('Francisco Gabriel', 'Rosales')\n",
            "('Mahia', 'Salem Barba')\n",
            "('Agustin Ignacio', 'Soto Camara')\n",
            "('Irina', 'Villalba')\n",
            "('Emanuel Tobias', 'Voltolini')\n",
            "('Santino Stefano', 'Zalazar')\n",
            "('Lourdes Mariel', 'Abud Laspiur')\n",
            "('Luana Micaela', 'Amador')\n",
            "('Leonardo Ezequiel', 'Anaquin')\n",
            "('Lautaro Nahuel', 'Araoz Sanchez')\n",
            "('Agostina Abril', 'Argañaraz')\n",
            "('Matias Ezequiel', 'Barrera')\n",
            "('Joaquin Nicolas', 'Barrozo Vedia')\n",
            "('Valentino', 'Bettinelli')\n",
            "('Salvador', 'Bracamonte Martinez')\n",
            "('Ariana Zoe Del Valle', 'Colque Rivero')\n",
            "('Dulce Maitena', 'Diaz')\n",
            "('Santino Josue', 'Figueroa')\n",
            "('Agustina Tiara', 'Flores Cardozo')\n",
            "('Octavio Ismael', 'Gallo')\n",
            "('Lourdes Yamila', 'Galvan')\n",
            "('Vitto Tomasso', 'Giangreco')\n",
            "('Martina Luna', 'Grancara')\n",
            "('Sara Elizabeth', 'Guanca')\n",
            "('Victoria Constanza', 'Lopez')\n",
            "('Rosario Agostina', 'Mamani Garrido')\n",
            "('Martin Ezequiel', 'Marinaro')\n",
            "('Ignacio', 'Merluzzi Dagum')\n",
            "('Martina', 'Messina')\n",
            "('Karim', 'Rasuk')\n",
            "('Lucia Magali', 'Rios')\n",
            "('Matías Agustín', 'Sanchez Flores')\n",
            "('Renato Marcelo', 'Scarano')\n",
            "('Lucas Mauricio', 'Sierra')\n",
            "('Martin Gabriel', 'Tapia')\n",
            "('Mia Antonella Alondra', 'Vilte')\n",
            "('Katya Milena', 'Virgillito')\n"
          ]
        }
      ]
    },
    {
      "cell_type": "markdown",
      "source": [
        "10. - Pedir al usuario un nombre y mostrar todos los estudiantes que tengan ese nombre.\n",
        "  - Hacer lo mismo con un apellido.\n"
      ],
      "metadata": {
        "id": "dY4y7OVPT1FT"
      }
    },
    {
      "cell_type": "code",
      "source": [
        "nombre = input(\"Ingrese un nombre:\").title()\n",
        "for alumno in alumnos:\n",
        "  if nombre in alumno:\n",
        "    print(alumno)\n",
        "apellido = input(\" Ingrese un apellido:\").title()\n",
        "for alumno in alumnos:\n",
        "  if apellido in alumno:\n",
        "    print(alumno)"
      ],
      "metadata": {
        "id": "bVTVfjH4VMBM",
        "outputId": "1642fbeb-d169-4d00-ae21-460ddce8c196",
        "colab": {
          "base_uri": "https://localhost:8080/"
        }
      },
      "execution_count": null,
      "outputs": [
        {
          "output_type": "stream",
          "name": "stdout",
          "text": [
            "Ingrese un nombre:victoria\n",
            "Lopez, Victoria Constanza\n",
            "Flores, Victoria Agustina\n",
            " Ingrese un apellido:fabricio\n",
            "Lascano Guanca, Marcelo Fabricio\n"
          ]
        }
      ]
    },
    {
      "cell_type": "markdown",
      "source": [
        "11. Pedir un nombre al usuario y eliminar todos los registros donde se encuentre un estudiante con el nombre ingresado.\n"
      ],
      "metadata": {
        "id": "7zdJLrqXVM30"
      }
    },
    {
      "cell_type": "code",
      "source": [
        "apellido1= input (\"Ingrese el primer apellido\")\n",
        "apellido2= input (\"Ingrese el segundo apellido\")"
      ],
      "metadata": {
        "id": "3_rnimG_VQr6"
      },
      "execution_count": null,
      "outputs": []
    },
    {
      "cell_type": "markdown",
      "source": [
        "12. Pedir dos apellidos al usuario, y reemplazar el primer apellido por el segundo en todos los registros donde se encuentre."
      ],
      "metadata": {
        "id": "DGU_hs0BVRfa"
      }
    },
    {
      "cell_type": "code",
      "source": [
        "apellido_1=input(\"Ingrese el primer apellido: \").title()\n",
        "apellido_2=input(\"Ingrese el segundo apellido: \").title()\n",
        "for i in range(len(tupla_estudiantes)):\n",
        "  apellido,nombre=tupla_estudiantes[i]\n",
        "  if apellido_1 in apellido:\n",
        "    apellido = apellido.replace(apellido_1,apellido_2)\n",
        "    tupla_estudiantes[i]= (apellido,nombre)\n",
        "for estudiante in tupla_estudiantes:\n",
        "  print(estudiante)"
      ],
      "metadata": {
        "id": "ghxBxrzTV6aL",
        "colab": {
          "base_uri": "https://localhost:8080/"
        },
        "outputId": "63eeb8d0-ff2d-4829-c41c-e084d3a7d262"
      },
      "execution_count": null,
      "outputs": [
        {
          "name": "stdout",
          "output_type": "stream",
          "text": [
            "Ingrese el primer apellido: Geronimo \n",
            "Ingrese el segundo apellido: Soriano \n"
          ]
        }
      ]
    }
  ]
}